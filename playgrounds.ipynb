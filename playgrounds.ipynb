{
 "cells": [
  {
   "cell_type": "markdown",
   "metadata": {},
   "source": [
    "# Submetric 2: **Playgrounds**"
   ]
  },
  {
   "cell_type": "markdown",
   "metadata": {},
   "source": [
    "The submetric considers the playgrounds that are available to families in the neighborhoods of Allegheny County. This, in conjunction with housing prices and arrest data gives us a clear picture of what families can expect living in different neighborhoods.\n",
    "\n",
    "---"
   ]
  },
  {
   "cell_type": "markdown",
   "metadata": {},
   "source": [
    "## Playground Dataset\n",
    "\n",
    "Created: May 10, 2017\n",
    "\n",
    "Updated: April 17, 2022"
   ]
  },
  {
   "cell_type": "code",
   "execution_count": 14,
   "metadata": {},
   "outputs": [],
   "source": [
    "import pandas as pd\n",
    "import matplotlib.pyplot as plt\n",
    "\n",
    "data = pd.read_csv('playgrounds.csv')\n"
   ]
  },
  {
   "cell_type": "code",
   "execution_count": 3,
   "metadata": {},
   "outputs": [
    {
     "data": {
      "text/html": [
       "<div>\n",
       "<style scoped>\n",
       "    .dataframe tbody tr th:only-of-type {\n",
       "        vertical-align: middle;\n",
       "    }\n",
       "\n",
       "    .dataframe tbody tr th {\n",
       "        vertical-align: top;\n",
       "    }\n",
       "\n",
       "    .dataframe thead th {\n",
       "        text-align: right;\n",
       "    }\n",
       "</style>\n",
       "<table border=\"1\" class=\"dataframe\">\n",
       "  <thead>\n",
       "    <tr style=\"text-align: right;\">\n",
       "      <th></th>\n",
       "      <th>id</th>\n",
       "      <th>name</th>\n",
       "      <th>type</th>\n",
       "      <th>maintenance_responsibility</th>\n",
       "      <th>park</th>\n",
       "      <th>street</th>\n",
       "      <th>image</th>\n",
       "      <th>neighborhood</th>\n",
       "      <th>council_district</th>\n",
       "      <th>ward</th>\n",
       "      <th>tract</th>\n",
       "      <th>public_works_division</th>\n",
       "      <th>pli_division</th>\n",
       "      <th>police_zone</th>\n",
       "      <th>fire_zone</th>\n",
       "      <th>latitude</th>\n",
       "      <th>longitude</th>\n",
       "    </tr>\n",
       "  </thead>\n",
       "  <tbody>\n",
       "    <tr>\n",
       "      <th>0</th>\n",
       "      <td>731501774</td>\n",
       "      <td>Able Long Playground</td>\n",
       "      <td>NaN</td>\n",
       "      <td>Parks - Western</td>\n",
       "      <td>Able Long Park</td>\n",
       "      <td>COAST AVE</td>\n",
       "      <td>https://tools.wprdc.org/images/pittsburgh/play...</td>\n",
       "      <td>Beechview</td>\n",
       "      <td>4</td>\n",
       "      <td>19</td>\n",
       "      <td>42003192000</td>\n",
       "      <td>5</td>\n",
       "      <td>19</td>\n",
       "      <td>6</td>\n",
       "      <td>4-28</td>\n",
       "      <td>40.408365</td>\n",
       "      <td>-80.028445</td>\n",
       "    </tr>\n",
       "    <tr>\n",
       "      <th>1</th>\n",
       "      <td>1461276747</td>\n",
       "      <td>Albert Graham Playground</td>\n",
       "      <td>NaN</td>\n",
       "      <td>Parks - Schenley</td>\n",
       "      <td>Albert Turk Graham Park</td>\n",
       "      <td>FORESIDE PL</td>\n",
       "      <td>https://tools.wprdc.org/images/pittsburgh/play...</td>\n",
       "      <td>Crawford-Roberts</td>\n",
       "      <td>6</td>\n",
       "      <td>3</td>\n",
       "      <td>42003030500</td>\n",
       "      <td>3</td>\n",
       "      <td>3</td>\n",
       "      <td>2</td>\n",
       "      <td>2-1</td>\n",
       "      <td>40.440519</td>\n",
       "      <td>-79.984137</td>\n",
       "    </tr>\n",
       "    <tr>\n",
       "      <th>2</th>\n",
       "      <td>1860709784</td>\n",
       "      <td>Alpine Playground</td>\n",
       "      <td>NaN</td>\n",
       "      <td>Parks - Northern</td>\n",
       "      <td>Alpine Gardens Park</td>\n",
       "      <td>ALPINE AVE</td>\n",
       "      <td>https://tools.wprdc.org/images/pittsburgh/play...</td>\n",
       "      <td>Central Northside</td>\n",
       "      <td>6</td>\n",
       "      <td>25</td>\n",
       "      <td>42003250300</td>\n",
       "      <td>1</td>\n",
       "      <td>25</td>\n",
       "      <td>1</td>\n",
       "      <td>1-21</td>\n",
       "      <td>40.457707</td>\n",
       "      <td>-80.012952</td>\n",
       "    </tr>\n",
       "    <tr>\n",
       "      <th>3</th>\n",
       "      <td>1770671485</td>\n",
       "      <td>Alton Playground</td>\n",
       "      <td>NaN</td>\n",
       "      <td>Parks - Western</td>\n",
       "      <td>Alton Park</td>\n",
       "      <td>ANDICK WAY</td>\n",
       "      <td>https://tools.wprdc.org/images/pittsburgh/play...</td>\n",
       "      <td>Beechview</td>\n",
       "      <td>4</td>\n",
       "      <td>19</td>\n",
       "      <td>42003191600</td>\n",
       "      <td>5</td>\n",
       "      <td>19</td>\n",
       "      <td>6</td>\n",
       "      <td>4-28</td>\n",
       "      <td>40.414137</td>\n",
       "      <td>-80.021605</td>\n",
       "    </tr>\n",
       "    <tr>\n",
       "      <th>4</th>\n",
       "      <td>18942817</td>\n",
       "      <td>Ammon Playground</td>\n",
       "      <td>NaN</td>\n",
       "      <td>Parks - Schenley</td>\n",
       "      <td>Ammon Park</td>\n",
       "      <td>MEMORY LN</td>\n",
       "      <td>https://tools.wprdc.org/images/pittsburgh/play...</td>\n",
       "      <td>Bedford Dwellings</td>\n",
       "      <td>6</td>\n",
       "      <td>5</td>\n",
       "      <td>42003050900</td>\n",
       "      <td>3</td>\n",
       "      <td>5</td>\n",
       "      <td>2</td>\n",
       "      <td>2-5</td>\n",
       "      <td>40.449037</td>\n",
       "      <td>-79.978064</td>\n",
       "    </tr>\n",
       "  </tbody>\n",
       "</table>\n",
       "</div>"
      ],
      "text/plain": [
       "           id                      name  type maintenance_responsibility  \\\n",
       "0   731501774      Able Long Playground   NaN            Parks - Western   \n",
       "1  1461276747  Albert Graham Playground   NaN           Parks - Schenley   \n",
       "2  1860709784         Alpine Playground   NaN           Parks - Northern   \n",
       "3  1770671485          Alton Playground   NaN            Parks - Western   \n",
       "4    18942817          Ammon Playground   NaN           Parks - Schenley   \n",
       "\n",
       "                      park       street  \\\n",
       "0           Able Long Park    COAST AVE   \n",
       "1  Albert Turk Graham Park  FORESIDE PL   \n",
       "2      Alpine Gardens Park   ALPINE AVE   \n",
       "3               Alton Park   ANDICK WAY   \n",
       "4               Ammon Park    MEMORY LN   \n",
       "\n",
       "                                               image       neighborhood  \\\n",
       "0  https://tools.wprdc.org/images/pittsburgh/play...          Beechview   \n",
       "1  https://tools.wprdc.org/images/pittsburgh/play...   Crawford-Roberts   \n",
       "2  https://tools.wprdc.org/images/pittsburgh/play...  Central Northside   \n",
       "3  https://tools.wprdc.org/images/pittsburgh/play...          Beechview   \n",
       "4  https://tools.wprdc.org/images/pittsburgh/play...  Bedford Dwellings   \n",
       "\n",
       "   council_district  ward        tract  public_works_division  pli_division  \\\n",
       "0                 4    19  42003192000                      5            19   \n",
       "1                 6     3  42003030500                      3             3   \n",
       "2                 6    25  42003250300                      1            25   \n",
       "3                 4    19  42003191600                      5            19   \n",
       "4                 6     5  42003050900                      3             5   \n",
       "\n",
       "   police_zone fire_zone   latitude  longitude  \n",
       "0            6      4-28  40.408365 -80.028445  \n",
       "1            2       2-1  40.440519 -79.984137  \n",
       "2            1      1-21  40.457707 -80.012952  \n",
       "3            6      4-28  40.414137 -80.021605  \n",
       "4            2       2-5  40.449037 -79.978064  "
      ]
     },
     "execution_count": 3,
     "metadata": {},
     "output_type": "execute_result"
    }
   ],
   "source": [
    "data.head()"
   ]
  },
  {
   "cell_type": "code",
   "execution_count": 10,
   "metadata": {},
   "outputs": [
    {
     "name": "stdout",
     "output_type": "stream",
     "text": [
      "Column names:\n",
      "id, name, type, maintenance_responsibility, park, street, image, neighborhood, council_district, ward, tract, public_works_division, pli_division, police_zone, fire_zone, latitude, longitude, "
     ]
    }
   ],
   "source": [
    "print(\"Column names:\")\n",
    "for c in data.columns.values:\n",
    "  print(c, end=\", \")"
   ]
  },
  {
   "cell_type": "code",
   "execution_count": 13,
   "metadata": {},
   "outputs": [
    {
     "name": "stdout",
     "output_type": "stream",
     "text": [
      "<class 'pandas.core.frame.DataFrame'>\n",
      "RangeIndex: 125 entries, 0 to 124\n",
      "Data columns (total 17 columns):\n",
      " #   Column                      Non-Null Count  Dtype  \n",
      "---  ------                      --------------  -----  \n",
      " 0   id                          125 non-null    int64  \n",
      " 1   name                        125 non-null    object \n",
      " 2   type                        0 non-null      float64\n",
      " 3   maintenance_responsibility  120 non-null    object \n",
      " 4   park                        123 non-null    object \n",
      " 5   street                      123 non-null    object \n",
      " 6   image                       118 non-null    object \n",
      " 7   neighborhood                125 non-null    object \n",
      " 8   council_district            125 non-null    int64  \n",
      " 9   ward                        125 non-null    int64  \n",
      " 10  tract                       125 non-null    int64  \n",
      " 11  public_works_division       125 non-null    int64  \n",
      " 12  pli_division                125 non-null    int64  \n",
      " 13  police_zone                 125 non-null    int64  \n",
      " 14  fire_zone                   125 non-null    object \n",
      " 15  latitude                    125 non-null    float64\n",
      " 16  longitude                   125 non-null    float64\n",
      "dtypes: float64(3), int64(7), object(7)\n",
      "memory usage: 16.7+ KB\n"
     ]
    }
   ],
   "source": [
    "data.info()"
   ]
  },
  {
   "cell_type": "markdown",
   "metadata": {},
   "source": [
    "---"
   ]
  },
  {
   "cell_type": "markdown",
   "metadata": {},
   "source": [
    "# Grouping playgrounds by neighborhood"
   ]
  },
  {
   "cell_type": "code",
   "execution_count": 55,
   "metadata": {},
   "outputs": [
    {
     "name": "stdout",
     "output_type": "stream",
     "text": [
      "There are 68 neighborhoods in this dataset\n"
     ]
    }
   ],
   "source": [
    "num_neighborhoods = len(data[\"neighborhood\"].unique())\n",
    "print(f\"There are {num_neighborhoods} neighborhoods in this dataset\")"
   ]
  },
  {
   "cell_type": "code",
   "execution_count": 70,
   "metadata": {},
   "outputs": [
    {
     "data": {
      "text/plain": [
       "neighborhood\n",
       "Squirrel Hill South    8\n",
       "Beechview              5\n",
       "South Side Slopes      5\n",
       "Allegheny Center       4\n",
       "Beltzhoover            4\n",
       "                      ..\n",
       "New Homestead          1\n",
       "Oakwood                1\n",
       "Perry North            1\n",
       "Perry South            1\n",
       "Windgap                1\n",
       "Length: 68, dtype: int64"
      ]
     },
     "execution_count": 70,
     "metadata": {},
     "output_type": "execute_result"
    }
   ],
   "source": [
    "grouped_playgrounds = data.groupby(\"neighborhood\")\n",
    "\n",
    "sorted_playgrounds = grouped_playgrounds.size().sort_values(ascending=False)\n",
    "sorted_playgrounds"
   ]
  },
  {
   "cell_type": "markdown",
   "metadata": {},
   "source": [
    "---"
   ]
  },
  {
   "cell_type": "markdown",
   "metadata": {},
   "source": [
    "## Representing our data"
   ]
  },
  {
   "cell_type": "code",
   "execution_count": 73,
   "metadata": {},
   "outputs": [
    {
     "data": {
      "text/plain": [
       "<AxesSubplot:xlabel='neighborhood'>"
      ]
     },
     "execution_count": 73,
     "metadata": {},
     "output_type": "execute_result"
    },
    {
     "data": {
      "image/png": "[encoded data removed]",
      "text/plain": [
       "<Figure size 1440x360 with 1 Axes>"
      ]
     },
     "metadata": {
      "needs_background": "light"
     },
     "output_type": "display_data"
    }
   ],
   "source": [
    "sorted_playgrounds.plot.bar(figsize=(20,5))"
   ]
  }
 ],
 "metadata": {
  "interpreter": {
   "hash": "aee8b7b246df8f9039afb4144a1f6fd8d2ca17a180786b69acc140d282b71a49"
  },
  "kernelspec": {
   "display_name": "Python 3.9.7 64-bit",
   "language": "python",
   "name": "python3"
  },
  "language_info": {
   "codemirror_mode": {
    "name": "ipython",
    "version": 3
   },
   "file_extension": ".py",
   "mimetype": "text/x-python",
   "name": "python",
   "nbconvert_exporter": "python",
   "pygments_lexer": "ipython3",
   "version": "3.10.2"
  },
  "orig_nbformat": 4
 },
 "nbformat": 4,
 "nbformat_minor": 2
}
