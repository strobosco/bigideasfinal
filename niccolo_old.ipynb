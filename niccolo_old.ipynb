{
 "cells": [
  {
   "cell_type": "markdown",
   "metadata": {},
   "source": [
    "# Niccolo's Notebook\n",
    "\n",
    "**Dataset:** [Allegheny County COVID Data](https://data.wprdc.org/dataset/allegheny-county-911-dispatches-ems-and-fire)\n",
    "\n",
    "**Supplemental dataset:** [Allegheny County Population Data](https://www.census.gov/quickfacts/fact/table/alleghenycountypennsylvania#)"
   ]
  },
  {
   "cell_type": "code",
   "execution_count": 15,
   "metadata": {},
   "outputs": [],
   "source": [
    "import pandas as pd"
   ]
  },
  {
   "cell_type": "code",
   "execution_count": 34,
   "metadata": {},
   "outputs": [],
   "source": [
    "data = pd.read_csv(\"covid_vax_individual.csv\")\n",
    "population = pd.read_csv(\"population.csv\")"
   ]
  },
  {
   "cell_type": "markdown",
   "metadata": {},
   "source": [
    "For population data analysis go to [Population EDA](#population-eda)"
   ]
  },
  {
   "cell_type": "code",
   "execution_count": 17,
   "metadata": {},
   "outputs": [
    {
     "data": {
      "text/html": [
       "<div>\n",
       "<style scoped>\n",
       "    .dataframe tbody tr th:only-of-type {\n",
       "        vertical-align: middle;\n",
       "    }\n",
       "\n",
       "    .dataframe tbody tr th {\n",
       "        vertical-align: top;\n",
       "    }\n",
       "\n",
       "    .dataframe thead th {\n",
       "        text-align: right;\n",
       "    }\n",
       "</style>\n",
       "<table border=\"1\" class=\"dataframe\">\n",
       "  <thead>\n",
       "    <tr style=\"text-align: right;\">\n",
       "      <th></th>\n",
       "      <th>indiv_id</th>\n",
       "      <th>vaccination_status</th>\n",
       "      <th>dose_1_vaccine_brand</th>\n",
       "      <th>dose_1_vaccination_date</th>\n",
       "      <th>dose_2_vaccine_brand</th>\n",
       "      <th>dose_2_vaccination_date</th>\n",
       "      <th>ad1_vaccine_brand</th>\n",
       "      <th>ad1_vaccination_date</th>\n",
       "      <th>age_bucket</th>\n",
       "      <th>gender</th>\n",
       "      <th>race</th>\n",
       "      <th>ethnicity</th>\n",
       "    </tr>\n",
       "  </thead>\n",
       "  <tbody>\n",
       "    <tr>\n",
       "      <th>0</th>\n",
       "      <td>47B7717CD680</td>\n",
       "      <td>FULLY_VACCINATED_W/_BOOSTER</td>\n",
       "      <td>COVID19-PFR-1</td>\n",
       "      <td>2021-03-23</td>\n",
       "      <td>COVID19-PFR-1</td>\n",
       "      <td>2021-04-13</td>\n",
       "      <td>COVID19-PFR-1</td>\n",
       "      <td>2022-01-02</td>\n",
       "      <td>70+</td>\n",
       "      <td>Female</td>\n",
       "      <td>Multiple/Other</td>\n",
       "      <td>Not Hispanic</td>\n",
       "    </tr>\n",
       "    <tr>\n",
       "      <th>1</th>\n",
       "      <td>AC2AD5E5CF55</td>\n",
       "      <td>FULLY_VACCINATED</td>\n",
       "      <td>COVID19-MOD-1</td>\n",
       "      <td>2021-03-16</td>\n",
       "      <td>COVID19-MOD-1</td>\n",
       "      <td>2021-04-13</td>\n",
       "      <td>NaN</td>\n",
       "      <td>NaN</td>\n",
       "      <td>70+</td>\n",
       "      <td>Female</td>\n",
       "      <td>White</td>\n",
       "      <td>Not Hispanic</td>\n",
       "    </tr>\n",
       "    <tr>\n",
       "      <th>2</th>\n",
       "      <td>9AC5F7AF8D0F</td>\n",
       "      <td>FULLY_VACCINATED_W/_BOOSTER</td>\n",
       "      <td>COVID19-PFR-1</td>\n",
       "      <td>2021-02-06</td>\n",
       "      <td>COVID19-PFR-1</td>\n",
       "      <td>2021-02-27</td>\n",
       "      <td>COVID19-PFR-1</td>\n",
       "      <td>2021-11-01</td>\n",
       "      <td>70+</td>\n",
       "      <td>Female</td>\n",
       "      <td>White</td>\n",
       "      <td>Not Hispanic</td>\n",
       "    </tr>\n",
       "    <tr>\n",
       "      <th>3</th>\n",
       "      <td>25E11384827A</td>\n",
       "      <td>FULLY_VACCINATED_W/_BOOSTER</td>\n",
       "      <td>COVID19-PFR-1</td>\n",
       "      <td>2021-06-10</td>\n",
       "      <td>COVID19-PFR-1</td>\n",
       "      <td>2021-07-01</td>\n",
       "      <td>COVID19-PFR-1</td>\n",
       "      <td>2022-01-13</td>\n",
       "      <td>30 - 39</td>\n",
       "      <td>Female</td>\n",
       "      <td>Black</td>\n",
       "      <td>Unknown</td>\n",
       "    </tr>\n",
       "    <tr>\n",
       "      <th>4</th>\n",
       "      <td>45BF8200C5CC</td>\n",
       "      <td>FULLY_VACCINATED_W/_BOOSTER</td>\n",
       "      <td>COVID19-MOD-1</td>\n",
       "      <td>2021-01-30</td>\n",
       "      <td>COVID19-MOD-1</td>\n",
       "      <td>2021-02-27</td>\n",
       "      <td>COVID19-MOD-1</td>\n",
       "      <td>2021-11-24</td>\n",
       "      <td>70+</td>\n",
       "      <td>Female</td>\n",
       "      <td>Unknown</td>\n",
       "      <td>Not Hispanic</td>\n",
       "    </tr>\n",
       "  </tbody>\n",
       "</table>\n",
       "</div>"
      ],
      "text/plain": [
       "       indiv_id           vaccination_status dose_1_vaccine_brand  \\\n",
       "0  47B7717CD680  FULLY_VACCINATED_W/_BOOSTER        COVID19-PFR-1   \n",
       "1  AC2AD5E5CF55             FULLY_VACCINATED        COVID19-MOD-1   \n",
       "2  9AC5F7AF8D0F  FULLY_VACCINATED_W/_BOOSTER        COVID19-PFR-1   \n",
       "3  25E11384827A  FULLY_VACCINATED_W/_BOOSTER        COVID19-PFR-1   \n",
       "4  45BF8200C5CC  FULLY_VACCINATED_W/_BOOSTER        COVID19-MOD-1   \n",
       "\n",
       "  dose_1_vaccination_date dose_2_vaccine_brand dose_2_vaccination_date  \\\n",
       "0              2021-03-23        COVID19-PFR-1              2021-04-13   \n",
       "1              2021-03-16        COVID19-MOD-1              2021-04-13   \n",
       "2              2021-02-06        COVID19-PFR-1              2021-02-27   \n",
       "3              2021-06-10        COVID19-PFR-1              2021-07-01   \n",
       "4              2021-01-30        COVID19-MOD-1              2021-02-27   \n",
       "\n",
       "  ad1_vaccine_brand ad1_vaccination_date age_bucket  gender            race  \\\n",
       "0     COVID19-PFR-1           2022-01-02        70+  Female  Multiple/Other   \n",
       "1               NaN                  NaN        70+  Female           White   \n",
       "2     COVID19-PFR-1           2021-11-01        70+  Female           White   \n",
       "3     COVID19-PFR-1           2022-01-13    30 - 39  Female           Black   \n",
       "4     COVID19-MOD-1           2021-11-24        70+  Female         Unknown   \n",
       "\n",
       "      ethnicity  \n",
       "0  Not Hispanic  \n",
       "1  Not Hispanic  \n",
       "2  Not Hispanic  \n",
       "3       Unknown  \n",
       "4  Not Hispanic  "
      ]
     },
     "execution_count": 17,
     "metadata": {},
     "output_type": "execute_result"
    }
   ],
   "source": [
    "data.head()"
   ]
  },
  {
   "cell_type": "code",
   "execution_count": 38,
   "metadata": {},
   "outputs": [
    {
     "name": "stdout",
     "output_type": "stream",
     "text": [
      "<class 'pandas.core.frame.DataFrame'>\n",
      "RangeIndex: 907653 entries, 0 to 907652\n",
      "Data columns (total 12 columns):\n",
      " #   Column                   Non-Null Count   Dtype \n",
      "---  ------                   --------------   ----- \n",
      " 0   indiv_id                 907653 non-null  object\n",
      " 1   vaccination_status       907653 non-null  object\n",
      " 2   dose_1_vaccine_brand     907653 non-null  object\n",
      " 3   dose_1_vaccination_date  907653 non-null  object\n",
      " 4   dose_2_vaccine_brand     755919 non-null  object\n",
      " 5   dose_2_vaccination_date  755919 non-null  object\n",
      " 6   ad1_vaccine_brand        404210 non-null  object\n",
      " 7   ad1_vaccination_date     404210 non-null  object\n",
      " 8   age_bucket               907653 non-null  object\n",
      " 9   gender                   907653 non-null  object\n",
      " 10  race                     907653 non-null  object\n",
      " 11  ethnicity                907653 non-null  object\n",
      "dtypes: object(12)\n",
      "memory usage: 83.1+ MB\n"
     ]
    }
   ],
   "source": [
    "data.info()"
   ]
  },
  {
   "cell_type": "code",
   "execution_count": 19,
   "metadata": {},
   "outputs": [
    {
     "data": {
      "text/html": [
       "<div>\n",
       "<style scoped>\n",
       "    .dataframe tbody tr th:only-of-type {\n",
       "        vertical-align: middle;\n",
       "    }\n",
       "\n",
       "    .dataframe tbody tr th {\n",
       "        vertical-align: top;\n",
       "    }\n",
       "\n",
       "    .dataframe thead th {\n",
       "        text-align: right;\n",
       "    }\n",
       "</style>\n",
       "<table border=\"1\" class=\"dataframe\">\n",
       "  <thead>\n",
       "    <tr style=\"text-align: right;\">\n",
       "      <th></th>\n",
       "      <th>indiv_id</th>\n",
       "      <th>vaccination_status</th>\n",
       "      <th>dose_1_vaccine_brand</th>\n",
       "      <th>dose_1_vaccination_date</th>\n",
       "      <th>dose_2_vaccine_brand</th>\n",
       "      <th>dose_2_vaccination_date</th>\n",
       "      <th>ad1_vaccine_brand</th>\n",
       "      <th>ad1_vaccination_date</th>\n",
       "      <th>age_bucket</th>\n",
       "      <th>gender</th>\n",
       "      <th>race</th>\n",
       "      <th>ethnicity</th>\n",
       "    </tr>\n",
       "  </thead>\n",
       "  <tbody>\n",
       "    <tr>\n",
       "      <th>count</th>\n",
       "      <td>907653</td>\n",
       "      <td>907653</td>\n",
       "      <td>907653</td>\n",
       "      <td>907653</td>\n",
       "      <td>755919</td>\n",
       "      <td>755919</td>\n",
       "      <td>404210</td>\n",
       "      <td>404210</td>\n",
       "      <td>907653</td>\n",
       "      <td>907653</td>\n",
       "      <td>907653</td>\n",
       "      <td>907653</td>\n",
       "    </tr>\n",
       "    <tr>\n",
       "      <th>unique</th>\n",
       "      <td>907653</td>\n",
       "      <td>3</td>\n",
       "      <td>5</td>\n",
       "      <td>469</td>\n",
       "      <td>4</td>\n",
       "      <td>451</td>\n",
       "      <td>5</td>\n",
       "      <td>230</td>\n",
       "      <td>8</td>\n",
       "      <td>3</td>\n",
       "      <td>6</td>\n",
       "      <td>3</td>\n",
       "    </tr>\n",
       "    <tr>\n",
       "      <th>top</th>\n",
       "      <td>47B7717CD680</td>\n",
       "      <td>FULLY_VACCINATED</td>\n",
       "      <td>COVID19-PFR-1</td>\n",
       "      <td>2021-03-25</td>\n",
       "      <td>COVID19-PFR-1</td>\n",
       "      <td>2021-05-06</td>\n",
       "      <td>COVID19-PFR-1</td>\n",
       "      <td>2021-12-02</td>\n",
       "      <td>60 - 69</td>\n",
       "      <td>Female</td>\n",
       "      <td>White</td>\n",
       "      <td>Not Hispanic</td>\n",
       "    </tr>\n",
       "    <tr>\n",
       "      <th>freq</th>\n",
       "      <td>1</td>\n",
       "      <td>418919</td>\n",
       "      <td>510027</td>\n",
       "      <td>12452</td>\n",
       "      <td>450544</td>\n",
       "      <td>11711</td>\n",
       "      <td>226921</td>\n",
       "      <td>6042</td>\n",
       "      <td>148424</td>\n",
       "      <td>482586</td>\n",
       "      <td>639496</td>\n",
       "      <td>793138</td>\n",
       "    </tr>\n",
       "  </tbody>\n",
       "</table>\n",
       "</div>"
      ],
      "text/plain": [
       "            indiv_id vaccination_status dose_1_vaccine_brand  \\\n",
       "count         907653             907653               907653   \n",
       "unique        907653                  3                    5   \n",
       "top     47B7717CD680   FULLY_VACCINATED        COVID19-PFR-1   \n",
       "freq               1             418919               510027   \n",
       "\n",
       "       dose_1_vaccination_date dose_2_vaccine_brand dose_2_vaccination_date  \\\n",
       "count                   907653               755919                  755919   \n",
       "unique                     469                    4                     451   \n",
       "top                 2021-03-25        COVID19-PFR-1              2021-05-06   \n",
       "freq                     12452               450544                   11711   \n",
       "\n",
       "       ad1_vaccine_brand ad1_vaccination_date age_bucket  gender    race  \\\n",
       "count             404210               404210     907653  907653  907653   \n",
       "unique                 5                  230          8       3       6   \n",
       "top        COVID19-PFR-1           2021-12-02    60 - 69  Female   White   \n",
       "freq              226921                 6042     148424  482586  639496   \n",
       "\n",
       "           ethnicity  \n",
       "count         907653  \n",
       "unique             3  \n",
       "top     Not Hispanic  \n",
       "freq          793138  "
      ]
     },
     "execution_count": 19,
     "metadata": {},
     "output_type": "execute_result"
    }
   ],
   "source": [
    "data.describe()"
   ]
  },
  {
   "cell_type": "code",
   "execution_count": 20,
   "metadata": {},
   "outputs": [
    {
     "name": "stdout",
     "output_type": "stream",
     "text": [
      "There are 12 columns:\n",
      "indiv_id, vaccination_status, dose_1_vaccine_brand, dose_1_vaccination_date, dose_2_vaccine_brand, dose_2_vaccination_date, ad1_vaccine_brand, ad1_vaccination_date, age_bucket, gender, race, ethnicity, "
     ]
    }
   ],
   "source": [
    "print(f\"There are {len(data.columns.values)} columns:\")\n",
    "for c in data.columns.values:\n",
    "  print(c, end=\", \")"
   ]
  },
  {
   "cell_type": "code",
   "execution_count": 21,
   "metadata": {},
   "outputs": [
    {
     "name": "stdout",
     "output_type": "stream",
     "text": [
      "Per-column counts:\n",
      "indiv_id: 907653\n",
      "vaccination_status: 907653\n",
      "dose_1_vaccine_brand: 907653\n",
      "dose_1_vaccination_date: 907653\n",
      "dose_2_vaccine_brand: 755919\n",
      "dose_2_vaccination_date: 755919\n",
      "ad1_vaccine_brand: 404210\n",
      "ad1_vaccination_date: 404210\n",
      "age_bucket: 907653\n",
      "gender: 907653\n",
      "race: 907653\n",
      "ethnicity: 907653\n"
     ]
    }
   ],
   "source": [
    "print(f\"Per-column counts:\")\n",
    "for c in data.columns.values:\n",
    "  print(f\"{c}: {data[c].count()}\")"
   ]
  },
  {
   "cell_type": "code",
   "execution_count": 22,
   "metadata": {},
   "outputs": [
    {
     "name": "stdout",
     "output_type": "stream",
     "text": [
      "Per-column data:\n",
      "Vaccination status:\n",
      " FULLY_VACCINATED               418919\n",
      "FULLY_VACCINATED_W/_BOOSTER    387014\n",
      "PARTIALLY_VACCINATED           101720\n",
      "Name: vaccination_status, dtype: int64\n",
      "------------\n",
      "Gender:\n",
      " Female     482586\n",
      "Male       417406\n",
      "Unknown      7661\n",
      "Name: gender, dtype: int64\n",
      "------------\n",
      "Race:\n",
      " White              639496\n",
      "Multiple/Other     121675\n",
      "Black               84820\n",
      "Asian               36103\n",
      "Unknown             21862\n",
      "Native American      3697\n",
      "Name: race, dtype: int64\n",
      "------------\n",
      "Ethnicity:\n",
      " Not Hispanic    793138\n",
      "Unknown          93731\n",
      "Hispanic         20784\n",
      "Name: ethnicity, dtype: int64\n",
      "------------\n"
     ]
    }
   ],
   "source": [
    "print(f\"Per-column data:\")\n",
    "\n",
    "print(f\"Vaccination status:\\n {data['vaccination_status'].value_counts()}\")\n",
    "print(\"------------\")\n",
    "print(f\"Gender:\\n {data['gender'].value_counts()}\")\n",
    "print(\"------------\")\n",
    "print(f\"Race:\\n {data['race'].value_counts()}\")\n",
    "print(\"------------\")\n",
    "print(f\"Ethnicity:\\n {data['ethnicity'].value_counts()}\")\n",
    "print(\"------------\")"
   ]
  },
  {
   "cell_type": "markdown",
   "metadata": {},
   "source": [
    "## Visualizations\n",
    "\n",
    "I will be using seaborn, a Python plotting library for plotting, which adds functionality on top of the famous Matplotlib library."
   ]
  },
  {
   "cell_type": "code",
   "execution_count": 31,
   "metadata": {},
   "outputs": [],
   "source": [
    "import seaborn as sns\n",
    "import matplotlib.pyplot as plt"
   ]
  },
  {
   "cell_type": "code",
   "execution_count": 24,
   "metadata": {},
   "outputs": [
    {
     "name": "stderr",
     "output_type": "stream",
     "text": [
      "/Users/niccolonobili/miniforge3/envs/ramirez/lib/python3.10/site-packages/seaborn/_decorators.py:36: FutureWarning: Pass the following variable as a keyword arg: x. From version 0.12, the only valid positional argument will be `data`, and passing other arguments without an explicit keyword will result in an error or misinterpretation.\n",
      "  warnings.warn(\n"
     ]
    },
    {
     "data": {
      "text/plain": [
       "<AxesSubplot:xlabel='race', ylabel='count'>"
      ]
     },
     "execution_count": 24,
     "metadata": {},
     "output_type": "execute_result"
    },
    {
     "data": {
      "image/png": "[encoded data removed]",
      "text/plain": [
       "<Figure size 432x288 with 1 Axes>"
      ]
     },
     "metadata": {
      "needs_background": "light"
     },
     "output_type": "display_data"
    }
   ],
   "source": [
    "sns.countplot(data['race'])"
   ]
  },
  {
   "cell_type": "code",
   "execution_count": 25,
   "metadata": {},
   "outputs": [
    {
     "name": "stderr",
     "output_type": "stream",
     "text": [
      "/Users/niccolonobili/miniforge3/envs/ramirez/lib/python3.10/site-packages/seaborn/_decorators.py:36: FutureWarning: Pass the following variable as a keyword arg: x. From version 0.12, the only valid positional argument will be `data`, and passing other arguments without an explicit keyword will result in an error or misinterpretation.\n",
      "  warnings.warn(\n"
     ]
    },
    {
     "data": {
      "text/plain": [
       "<AxesSubplot:xlabel='gender', ylabel='count'>"
      ]
     },
     "execution_count": 25,
     "metadata": {},
     "output_type": "execute_result"
    },
    {
     "data": {
      "image/png": "[encoded data removed]",
      "text/plain": [
       "<Figure size 432x288 with 1 Axes>"
      ]
     },
     "metadata": {
      "needs_background": "light"
     },
     "output_type": "display_data"
    }
   ],
   "source": [
    "sns.countplot(data['gender'])"
   ]
  },
  {
   "cell_type": "code",
   "execution_count": 26,
   "metadata": {},
   "outputs": [
    {
     "name": "stderr",
     "output_type": "stream",
     "text": [
      "/Users/niccolonobili/miniforge3/envs/ramirez/lib/python3.10/site-packages/seaborn/_decorators.py:36: FutureWarning: Pass the following variable as a keyword arg: x. From version 0.12, the only valid positional argument will be `data`, and passing other arguments without an explicit keyword will result in an error or misinterpretation.\n",
      "  warnings.warn(\n"
     ]
    },
    {
     "data": {
      "text/plain": [
       "<AxesSubplot:xlabel='ethnicity', ylabel='count'>"
      ]
     },
     "execution_count": 26,
     "metadata": {},
     "output_type": "execute_result"
    },
    {
     "data": {
      "image/png": "[encoded data removed]",
      "text/plain": [
       "<Figure size 432x288 with 1 Axes>"
      ]
     },
     "metadata": {
      "needs_background": "light"
     },
     "output_type": "display_data"
    }
   ],
   "source": [
    "sns.countplot(data['ethnicity'])"
   ]
  },
  {
   "cell_type": "code",
   "execution_count": 27,
   "metadata": {},
   "outputs": [
    {
     "name": "stderr",
     "output_type": "stream",
     "text": [
      "/Users/niccolonobili/miniforge3/envs/ramirez/lib/python3.10/site-packages/seaborn/_decorators.py:36: FutureWarning: Pass the following variable as a keyword arg: x. From version 0.12, the only valid positional argument will be `data`, and passing other arguments without an explicit keyword will result in an error or misinterpretation.\n",
      "  warnings.warn(\n"
     ]
    },
    {
     "data": {
      "text/plain": [
       "<AxesSubplot:xlabel='vaccination_status', ylabel='count'>"
      ]
     },
     "execution_count": 27,
     "metadata": {},
     "output_type": "execute_result"
    },
    {
     "data": {
      "image/png": "[encoded data removed]",
      "text/plain": [
       "<Figure size 432x288 with 1 Axes>"
      ]
     },
     "metadata": {
      "needs_background": "light"
     },
     "output_type": "display_data"
    }
   ],
   "source": [
    "sns.countplot(data['vaccination_status'])"
   ]
  },
  {
   "cell_type": "code",
   "execution_count": 32,
   "metadata": {},
   "outputs": [
    {
     "name": "stderr",
     "output_type": "stream",
     "text": [
      "/Users/niccolonobili/miniforge3/envs/ramirez/lib/python3.10/site-packages/seaborn/_decorators.py:36: FutureWarning: Pass the following variable as a keyword arg: x. From version 0.12, the only valid positional argument will be `data`, and passing other arguments without an explicit keyword will result in an error or misinterpretation.\n",
      "  warnings.warn(\n",
      "/Users/niccolonobili/miniforge3/envs/ramirez/lib/python3.10/site-packages/seaborn/_decorators.py:36: FutureWarning: Pass the following variable as a keyword arg: x. From version 0.12, the only valid positional argument will be `data`, and passing other arguments without an explicit keyword will result in an error or misinterpretation.\n",
      "  warnings.warn(\n",
      "/Users/niccolonobili/miniforge3/envs/ramirez/lib/python3.10/site-packages/seaborn/_decorators.py:36: FutureWarning: Pass the following variable as a keyword arg: x. From version 0.12, the only valid positional argument will be `data`, and passing other arguments without an explicit keyword will result in an error or misinterpretation.\n",
      "  warnings.warn(\n",
      "/Users/niccolonobili/miniforge3/envs/ramirez/lib/python3.10/site-packages/seaborn/_decorators.py:36: FutureWarning: Pass the following variable as a keyword arg: x. From version 0.12, the only valid positional argument will be `data`, and passing other arguments without an explicit keyword will result in an error or misinterpretation.\n",
      "  warnings.warn(\n"
     ]
    },
    {
     "data": {
      "image/png": "[encoded data removed]",
      "text/plain": [
       "<Figure size 1440x720 with 4 Axes>"
      ]
     },
     "metadata": {
      "needs_background": "light"
     },
     "output_type": "display_data"
    }
   ],
   "source": [
    "cols = [\"gender\", \"race\", \"ethnicity\", \"vaccination_status\"]\n",
    "\n",
    "fig, ax = plt.subplots(1, 4, figsize=(20, 10))\n",
    "for variable, subplot in zip(cols, ax.flatten()):\n",
    "    sns.countplot(data[variable], ax=subplot)\n",
    "    for label in subplot.get_xticklabels():\n",
    "        label.set_rotation(90)"
   ]
  },
  {
   "cell_type": "code",
   "execution_count": null,
   "metadata": {},
   "outputs": [],
   "source": []
  },
  {
   "cell_type": "markdown",
   "metadata": {},
   "source": [
    "# Population EDA\n",
    "<a id=\"population-eda\"></a>\n",
    "\n",
    "This dataset requires a lot of pre-processing as we can see that it requires a lot of translation and how the data is structured within the csv."
   ]
  },
  {
   "cell_type": "code",
   "execution_count": 35,
   "metadata": {},
   "outputs": [
    {
     "data": {
      "text/html": [
       "<div>\n",
       "<style scoped>\n",
       "    .dataframe tbody tr th:only-of-type {\n",
       "        vertical-align: middle;\n",
       "    }\n",
       "\n",
       "    .dataframe tbody tr th {\n",
       "        vertical-align: top;\n",
       "    }\n",
       "\n",
       "    .dataframe thead th {\n",
       "        text-align: right;\n",
       "    }\n",
       "</style>\n",
       "<table border=\"1\" class=\"dataframe\">\n",
       "  <thead>\n",
       "    <tr style=\"text-align: right;\">\n",
       "      <th></th>\n",
       "      <th>Fact</th>\n",
       "      <th>Fact Note</th>\n",
       "      <th>Allegheny County, Pennsylvania</th>\n",
       "      <th>Value Note for Allegheny County, Pennsylvania</th>\n",
       "    </tr>\n",
       "  </thead>\n",
       "  <tbody>\n",
       "    <tr>\n",
       "      <th>0</th>\n",
       "      <td>Population Estimates, July 1 2021, (V2021)</td>\n",
       "      <td>NaN</td>\n",
       "      <td>1,238,090</td>\n",
       "      <td>NaN</td>\n",
       "    </tr>\n",
       "    <tr>\n",
       "      <th>1</th>\n",
       "      <td>Population estimates base, April 1, 2020, (V2021)</td>\n",
       "      <td>NaN</td>\n",
       "      <td>1,250,578</td>\n",
       "      <td>NaN</td>\n",
       "    </tr>\n",
       "    <tr>\n",
       "      <th>2</th>\n",
       "      <td>Population, percent change - April 1, 2020 (es...</td>\n",
       "      <td>NaN</td>\n",
       "      <td>-1.0%</td>\n",
       "      <td>NaN</td>\n",
       "    </tr>\n",
       "    <tr>\n",
       "      <th>3</th>\n",
       "      <td>Population, Census, April 1, 2020</td>\n",
       "      <td>NaN</td>\n",
       "      <td>1,250,578</td>\n",
       "      <td>NaN</td>\n",
       "    </tr>\n",
       "    <tr>\n",
       "      <th>4</th>\n",
       "      <td>Population, Census, April 1, 2010</td>\n",
       "      <td>NaN</td>\n",
       "      <td>1,223,348</td>\n",
       "      <td>NaN</td>\n",
       "    </tr>\n",
       "  </tbody>\n",
       "</table>\n",
       "</div>"
      ],
      "text/plain": [
       "                                                Fact Fact Note  \\\n",
       "0         Population Estimates, July 1 2021, (V2021)       NaN   \n",
       "1  Population estimates base, April 1, 2020, (V2021)       NaN   \n",
       "2  Population, percent change - April 1, 2020 (es...       NaN   \n",
       "3                  Population, Census, April 1, 2020       NaN   \n",
       "4                  Population, Census, April 1, 2010       NaN   \n",
       "\n",
       "  Allegheny County, Pennsylvania  \\\n",
       "0                      1,238,090   \n",
       "1                      1,250,578   \n",
       "2                          -1.0%   \n",
       "3                      1,250,578   \n",
       "4                      1,223,348   \n",
       "\n",
       "   Value Note for Allegheny County, Pennsylvania  \n",
       "0                                            NaN  \n",
       "1                                            NaN  \n",
       "2                                            NaN  \n",
       "3                                            NaN  \n",
       "4                                            NaN  "
      ]
     },
     "execution_count": 35,
     "metadata": {},
     "output_type": "execute_result"
    }
   ],
   "source": [
    "population.head()"
   ]
  },
  {
   "cell_type": "code",
   "execution_count": 39,
   "metadata": {},
   "outputs": [
    {
     "name": "stdout",
     "output_type": "stream",
     "text": [
      "<class 'pandas.core.frame.DataFrame'>\n",
      "RangeIndex: 83 entries, 0 to 82\n",
      "Data columns (total 4 columns):\n",
      " #   Column                                         Non-Null Count  Dtype  \n",
      "---  ------                                         --------------  -----  \n",
      " 0   Fact                                           78 non-null     object \n",
      " 1   Fact Note                                      22 non-null     object \n",
      " 2   Allegheny County, Pennsylvania                 62 non-null     object \n",
      " 3   Value Note for Allegheny County, Pennsylvania  0 non-null      float64\n",
      "dtypes: float64(1), object(3)\n",
      "memory usage: 2.7+ KB\n"
     ]
    }
   ],
   "source": [
    "population.info()"
   ]
  },
  {
   "cell_type": "markdown",
   "metadata": {},
   "source": [
    "### POPULATION DISTRIBUTION"
   ]
  },
  {
   "cell_type": "code",
   "execution_count": 44,
   "metadata": {},
   "outputs": [
    {
     "name": "stdout",
     "output_type": "stream",
     "text": [
      "The population as of April 1, 2020 was 1,250,578\n",
      "The population as of April 1, 2010 was 1,223,348\n"
     ]
    }
   ],
   "source": [
    "pop2020 = population.iloc[3,2]\n",
    "pop2010 = population.iloc[4,2]\n",
    "print(f\"The population as of April 1, 2020 was {pop2020}\")\n",
    "print(f\"The population as of April 1, 2010 was {pop2010}\")"
   ]
  },
  {
   "cell_type": "code",
   "execution_count": 45,
   "metadata": {},
   "outputs": [
    {
     "data": {
      "text/html": [
       "<div>\n",
       "<style scoped>\n",
       "    .dataframe tbody tr th:only-of-type {\n",
       "        vertical-align: middle;\n",
       "    }\n",
       "\n",
       "    .dataframe tbody tr th {\n",
       "        vertical-align: top;\n",
       "    }\n",
       "\n",
       "    .dataframe thead th {\n",
       "        text-align: right;\n",
       "    }\n",
       "</style>\n",
       "<table border=\"1\" class=\"dataframe\">\n",
       "  <thead>\n",
       "    <tr style=\"text-align: right;\">\n",
       "      <th></th>\n",
       "      <th>Fact</th>\n",
       "      <th>Fact Note</th>\n",
       "      <th>Allegheny County, Pennsylvania</th>\n",
       "      <th>Value Note for Allegheny County, Pennsylvania</th>\n",
       "    </tr>\n",
       "  </thead>\n",
       "  <tbody>\n",
       "    <tr>\n",
       "      <th>0</th>\n",
       "      <td>Population Estimates, July 1 2021, (V2021)</td>\n",
       "      <td>NaN</td>\n",
       "      <td>1,238,090</td>\n",
       "      <td>NaN</td>\n",
       "    </tr>\n",
       "    <tr>\n",
       "      <th>1</th>\n",
       "      <td>Population estimates base, April 1, 2020, (V2021)</td>\n",
       "      <td>NaN</td>\n",
       "      <td>1,250,578</td>\n",
       "      <td>NaN</td>\n",
       "    </tr>\n",
       "    <tr>\n",
       "      <th>2</th>\n",
       "      <td>Population, percent change - April 1, 2020 (es...</td>\n",
       "      <td>NaN</td>\n",
       "      <td>-1.0%</td>\n",
       "      <td>NaN</td>\n",
       "    </tr>\n",
       "    <tr>\n",
       "      <th>3</th>\n",
       "      <td>Population, Census, April 1, 2020</td>\n",
       "      <td>NaN</td>\n",
       "      <td>1,250,578</td>\n",
       "      <td>NaN</td>\n",
       "    </tr>\n",
       "    <tr>\n",
       "      <th>4</th>\n",
       "      <td>Population, Census, April 1, 2010</td>\n",
       "      <td>NaN</td>\n",
       "      <td>1,223,348</td>\n",
       "      <td>NaN</td>\n",
       "    </tr>\n",
       "    <tr>\n",
       "      <th>5</th>\n",
       "      <td>Persons under 5 years, percent</td>\n",
       "      <td>NaN</td>\n",
       "      <td>5.2%</td>\n",
       "      <td>NaN</td>\n",
       "    </tr>\n",
       "    <tr>\n",
       "      <th>6</th>\n",
       "      <td>Persons under 18 years, percent</td>\n",
       "      <td>NaN</td>\n",
       "      <td>18.6%</td>\n",
       "      <td>NaN</td>\n",
       "    </tr>\n",
       "    <tr>\n",
       "      <th>7</th>\n",
       "      <td>Persons 65 years and over, percent</td>\n",
       "      <td>NaN</td>\n",
       "      <td>19.3%</td>\n",
       "      <td>NaN</td>\n",
       "    </tr>\n",
       "    <tr>\n",
       "      <th>8</th>\n",
       "      <td>Female persons, percent</td>\n",
       "      <td>NaN</td>\n",
       "      <td>51.6%</td>\n",
       "      <td>NaN</td>\n",
       "    </tr>\n",
       "    <tr>\n",
       "      <th>9</th>\n",
       "      <td>White alone, percent</td>\n",
       "      <td>NaN</td>\n",
       "      <td>79.9%</td>\n",
       "      <td>NaN</td>\n",
       "    </tr>\n",
       "    <tr>\n",
       "      <th>10</th>\n",
       "      <td>Black or African American alone, percent</td>\n",
       "      <td>(a)</td>\n",
       "      <td>13.4%</td>\n",
       "      <td>NaN</td>\n",
       "    </tr>\n",
       "    <tr>\n",
       "      <th>11</th>\n",
       "      <td>American Indian and Alaska Native alone, percent</td>\n",
       "      <td>(a)</td>\n",
       "      <td>0.2%</td>\n",
       "      <td>NaN</td>\n",
       "    </tr>\n",
       "    <tr>\n",
       "      <th>12</th>\n",
       "      <td>Asian alone, percent</td>\n",
       "      <td>(a)</td>\n",
       "      <td>4.2%</td>\n",
       "      <td>NaN</td>\n",
       "    </tr>\n",
       "    <tr>\n",
       "      <th>13</th>\n",
       "      <td>Native Hawaiian and Other Pacific Islander alo...</td>\n",
       "      <td>(a)</td>\n",
       "      <td>Z</td>\n",
       "      <td>NaN</td>\n",
       "    </tr>\n",
       "    <tr>\n",
       "      <th>14</th>\n",
       "      <td>Two or More Races, percent</td>\n",
       "      <td>NaN</td>\n",
       "      <td>2.3%</td>\n",
       "      <td>NaN</td>\n",
       "    </tr>\n",
       "    <tr>\n",
       "      <th>15</th>\n",
       "      <td>Hispanic or Latino, percent</td>\n",
       "      <td>(b)</td>\n",
       "      <td>2.3%</td>\n",
       "      <td>NaN</td>\n",
       "    </tr>\n",
       "    <tr>\n",
       "      <th>16</th>\n",
       "      <td>White alone, not Hispanic or Latino, percent</td>\n",
       "      <td>NaN</td>\n",
       "      <td>78.1%</td>\n",
       "      <td>NaN</td>\n",
       "    </tr>\n",
       "    <tr>\n",
       "      <th>17</th>\n",
       "      <td>Veterans, 2016-2020</td>\n",
       "      <td>NaN</td>\n",
       "      <td>69,856</td>\n",
       "      <td>NaN</td>\n",
       "    </tr>\n",
       "    <tr>\n",
       "      <th>18</th>\n",
       "      <td>Foreign born persons, percent, 2016-2020</td>\n",
       "      <td>NaN</td>\n",
       "      <td>6.1%</td>\n",
       "      <td>NaN</td>\n",
       "    </tr>\n",
       "    <tr>\n",
       "      <th>19</th>\n",
       "      <td>Housing units,  July 1, 2019,  (V2019)</td>\n",
       "      <td>NaN</td>\n",
       "      <td>604,258</td>\n",
       "      <td>NaN</td>\n",
       "    </tr>\n",
       "  </tbody>\n",
       "</table>\n",
       "</div>"
      ],
      "text/plain": [
       "                                                 Fact Fact Note  \\\n",
       "0          Population Estimates, July 1 2021, (V2021)       NaN   \n",
       "1   Population estimates base, April 1, 2020, (V2021)       NaN   \n",
       "2   Population, percent change - April 1, 2020 (es...       NaN   \n",
       "3                   Population, Census, April 1, 2020       NaN   \n",
       "4                   Population, Census, April 1, 2010       NaN   \n",
       "5                      Persons under 5 years, percent       NaN   \n",
       "6                     Persons under 18 years, percent       NaN   \n",
       "7                  Persons 65 years and over, percent       NaN   \n",
       "8                             Female persons, percent       NaN   \n",
       "9                                White alone, percent       NaN   \n",
       "10           Black or African American alone, percent       (a)   \n",
       "11   American Indian and Alaska Native alone, percent       (a)   \n",
       "12                               Asian alone, percent       (a)   \n",
       "13  Native Hawaiian and Other Pacific Islander alo...       (a)   \n",
       "14                         Two or More Races, percent       NaN   \n",
       "15                        Hispanic or Latino, percent       (b)   \n",
       "16       White alone, not Hispanic or Latino, percent       NaN   \n",
       "17                                Veterans, 2016-2020       NaN   \n",
       "18           Foreign born persons, percent, 2016-2020       NaN   \n",
       "19             Housing units,  July 1, 2019,  (V2019)       NaN   \n",
       "\n",
       "   Allegheny County, Pennsylvania  \\\n",
       "0                       1,238,090   \n",
       "1                       1,250,578   \n",
       "2                           -1.0%   \n",
       "3                       1,250,578   \n",
       "4                       1,223,348   \n",
       "5                            5.2%   \n",
       "6                           18.6%   \n",
       "7                           19.3%   \n",
       "8                           51.6%   \n",
       "9                           79.9%   \n",
       "10                          13.4%   \n",
       "11                           0.2%   \n",
       "12                           4.2%   \n",
       "13                              Z   \n",
       "14                           2.3%   \n",
       "15                           2.3%   \n",
       "16                          78.1%   \n",
       "17                         69,856   \n",
       "18                           6.1%   \n",
       "19                        604,258   \n",
       "\n",
       "    Value Note for Allegheny County, Pennsylvania  \n",
       "0                                             NaN  \n",
       "1                                             NaN  \n",
       "2                                             NaN  \n",
       "3                                             NaN  \n",
       "4                                             NaN  \n",
       "5                                             NaN  \n",
       "6                                             NaN  \n",
       "7                                             NaN  \n",
       "8                                             NaN  \n",
       "9                                             NaN  \n",
       "10                                            NaN  \n",
       "11                                            NaN  \n",
       "12                                            NaN  \n",
       "13                                            NaN  \n",
       "14                                            NaN  \n",
       "15                                            NaN  \n",
       "16                                            NaN  \n",
       "17                                            NaN  \n",
       "18                                            NaN  \n",
       "19                                            NaN  "
      ]
     },
     "execution_count": 45,
     "metadata": {},
     "output_type": "execute_result"
    }
   ],
   "source": [
    "population.head(20)"
   ]
  },
  {
   "cell_type": "code",
   "execution_count": null,
   "metadata": {},
   "outputs": [],
   "source": []
  }
 ],
 "metadata": {
  "interpreter": {
   "hash": "a19eb55221d19a8fecc13533bf870151a5cf8af344826d1020514773baaa94a9"
  },
  "kernelspec": {
   "display_name": "Python 3.10.2 ('ramirez')",
   "language": "python",
   "name": "python3"
  },
  "language_info": {
   "codemirror_mode": {
    "name": "ipython",
    "version": 3
   },
   "file_extension": ".py",
   "mimetype": "text/x-python",
   "name": "python",
   "nbconvert_exporter": "python",
   "pygments_lexer": "ipython3",
   "version": "3.10.4"
  },
  "orig_nbformat": 4
 },
 "nbformat": 4,
 "nbformat_minor": 2
}
