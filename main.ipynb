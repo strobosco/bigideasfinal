{
 "cells": [
  {
   "cell_type": "markdown",
   "metadata": {},
   "source": [
    "# The **BEST** Neighborhood in Pittsburgh\n",
    "---\n",
    "## **Little Italy** 🇮🇹🇮🇹🇮🇹\n",
    "### Team members:\n",
    "- Niccolo Nobili | NIN49\n",
    "- Maximus Hayes | MCH103\n",
    "- Emmett Hulser-Morris | EMH163\n",
    "---\n"
   ]
  },
  {
   "cell_type": "markdown",
   "metadata": {},
   "source": [
    "## Introduction\n",
    "For this project, we were asked to use our data analysis skills that we have been building up throughout the course to answer the question:\n",
    "\n",
    "<div align='center' style='font-size:20px;'>\n",
    "    <italic>What is the best neighborhood in Pittsburgh?</italic>\n",
    "</div>\n",
    "<br />\n",
    "\n",
    "Using data from the [WPRDC](http://www.wprdc.org), we created a data-driven argument for which neighborhood is the \"best\" --based on our defenition of the word.\n",
    "<br />\n",
    "\n",
    "To decide our metric, we put ourselves in the shoes of a Pitt student looking for somewhere to live after graduation. There were several factors that we wanted to make sure to account for...\n",
    "- Our Health\n",
    "- Our Happiness\n",
    "- Our (probably low) Income\n",
    "<br />\n",
    "\n",
    "We then searched for data to accomodate our needs.\n",
    "\n",
    "---"
   ]
  },
  {
   "cell_type": "markdown",
   "metadata": {},
   "source": [
    "## **The Metric**\n",
    "We define the \"best\" neighborhood as the most desirable neighborhood to live in based on:\n",
    "1. Quality of life: - *Are there things to do (or places to go) near this neighborhood?*\n",
    "2. Health benefits - *Does this neighborhood have any factors that may negatively affect my health?*\n",
    "3. Affordability: - *Is living in this neighborhood within reach for the average person?*\n",
    "### Our submetrics\n",
    "1.  [Nearby Parks](https://data.wprdc.org/dataset/parks) | Niccolo Nobili\n",
    "\n",
    "2.  [Air quality](https://data.wprdc.org/datasetallegheny-county-air-quality) | Maximus Hayes\n",
    "\n",
    "3. [Housing rent](https://data.wprdc.org/dataset/pittsburgh-american-community-survey-2015-miscellaneous-data/resource/dbf449e2-e8a1-41ce-941e-3b95041fd00c) | Emmett Hulser-Morris\n",
    "\n",
    "---"
   ]
  },
  {
   "cell_type": "markdown",
   "metadata": {},
   "source": [
    "## The Best Neighborhood\n",
    "---"
   ]
  },
  {
   "cell_type": "markdown",
   "metadata": {},
   "source": [
    "# Conclusion"
   ]
  },
  {
   "cell_type": "markdown",
   "metadata": {},
   "source": []
  }
 ],
 "metadata": {
  "language_info": {
   "name": "python"
  },
  "orig_nbformat": 4
 },
 "nbformat": 4,
 "nbformat_minor": 2
}
