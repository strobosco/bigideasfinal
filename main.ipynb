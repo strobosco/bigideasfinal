{
 "cells": [
  {
   "cell_type": "markdown",
   "metadata": {},
   "source": [
    "# The **BEST** Neighborhood in Pittsburgh\n",
    "---\n",
    "## **Little Italy** 🇮🇹\n",
    "\n",
    "### Team members:\n",
    "| Name         | Email     |\n",
    "|:----------------:|:----------------:|\n",
    "| Niccolo Nobili       | NIN49@pitt.edu  |\n",
    "| Maximus Hayes        | MCH103@pitt.edu |\n",
    "| Emmett Hulser-Morris | EMH163@pitt.edu |\n",
    "---\n"
   ]
  },
  {
   "cell_type": "markdown",
   "metadata": {},
   "source": [
    "## Introduction\n",
    "For this project, we were asked to use our data analysis skills that we have been building up throughout the course to answer the question:\n",
    "\n",
    "<div align='center' style='font-size:20px;'>\n",
    "    <italic>What is the best neighborhood in Pittsburgh?</italic>\n",
    "</div>\n",
    "<br />\n",
    "\n",
    "Using data from the [WPRDC](http://www.wprdc.org), we created a data-driven argument for which neighborhood is the \"best\" -- based on our definition of the word.\n",
    "<br />\n",
    "\n",
    "To decide our metric, we put ourselves in the position of a Pitt alum looking for somewhere to settle down and start a family. What we valued was:\n",
    "\n",
    "- Our family's safety\n",
    "- Our family's happiness\n",
    "- Our family's (likely low) income\n",
    "<br />\n",
    "\n",
    "We then searched for data to accomodate our needs.\n",
    "\n",
    "---"
   ]
  },
  {
   "cell_type": "markdown",
   "metadata": {},
   "source": [
    "## **The Metric**\n",
    "\n",
    "We define the \"best\" neighborhood as the most desirable neighborhood to live in based on:\n",
    "\n",
    "1. Safety: *Will we have to worry about the safety of our family (or belongings) here?*\n",
    "\n",
    "2. Happiness: *Are there things to do (or places to go) for our family's entertainment?*\n",
    "\n",
    "3. Cost: *Is living in this neighborhood within reach for the average person?*\n",
    "\n",
    "### The datasets we used for our submetrics\n",
    "\n",
    "- [Pittsburgh Police Arrests][1] | Maximus Hayes\n",
    "\n",
    "- [Playgrounds][2] | Niccolo Nobili\n",
    "\n",
    "- [Average Rent][3] | Emmett Hulser-Morris\n",
    "\n",
    "---\n",
    "[1]: https://github.com/strobosco/bigideasfinal/blob/max-branch/safety.ipynb\n",
    "[2]: https://github.com/strobosco/bigideasfinal/blob/niccolo-branch/playgrounds.ipynb\n",
    "[3]: https://github.com/strobosco/bigideasfinal/blob/emmett-branch/cost.ipynb"
   ]
  },
  {
   "cell_type": "markdown",
   "metadata": {},
   "source": [
    "## Deciding The Best Neighborhood\n",
    "\n",
    "Our two frontrunners:\n",
    "### **Oakwood** \n",
    "### **Central Northside**\n",
    "\n",
    "\n",
    "We'll now see how the submetrics evaluated these two neighborhoods."
   ]
  },
  {
   "cell_type": "markdown",
   "metadata": {},
   "source": [
    "**Submetric 1: Safety**<br />\n",
    "\n",
    "Here's how the two neighborhoods compare to eachother in terms of crime\n",
    "\n",
    "![Safety](Images/safety.png)\n",
    "\n",
    "**Central Northside** has:\n",
    "* less than 1/3 the amount of *total* offenses\n",
    "* less than 1/2 the amount of *unique* offenses\n",
    "\n",
    "---"
   ]
  },
  {
   "cell_type": "markdown",
   "metadata": {},
   "source": [
    "**Submetric 2: Playgrounds**<br />\n",
    "\n",
    "Here's how their **playground** counts compared\n",
    "\n",
    "![Playgrounds](Images/playgrounds.png)\n",
    "\n",
    "We can see **Central Northside** has 1 more playground than Oakwood\n",
    "\n",
    "---"
   ]
  },
  {
   "cell_type": "markdown",
   "metadata": {},
   "source": [
    "**Submetric 3: Cost**<br />\n",
    "\n",
    "Here are the **average rent prices** of the two neighborhoods\n",
    "\n",
    "![Rent prices](Images/rents.png)\n",
    "\n",
    "Oakwood has the lower rent by about $100<br />\n",
    "\n",
    "Considering the much lower crime rate and the one extra playground that Central Northside contains...<br /> \n",
    "\n",
    "We think it is reasonable to pay the extra $100 to live in **Central Northside**\n",
    "\n",
    "---"
   ]
  },
  {
   "cell_type": "markdown",
   "metadata": {},
   "source": [
    "# Conclusion"
   ]
  },
  {
   "cell_type": "markdown",
   "metadata": {},
   "source": [
    "While it is true that Oakwood wins out in price, the metrics of safety and happiness are far more favorable in Central Northside. For these reasons, we have decided that, according to our definition, \n",
    "\n",
    "<div align='center' style=\"font-size:35px;\">Central Northside is the best neighborhood in Pittsburgh</div>"
   ]
  }
 ],
 "metadata": {
  "language_info": {
   "name": "python"
  },
  "orig_nbformat": 4
 },
 "nbformat": 4,
 "nbformat_minor": 2
}
