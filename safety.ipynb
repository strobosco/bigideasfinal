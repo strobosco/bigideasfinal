{
 "cells": [
  {
   "cell_type": "markdown",
   "metadata": {},
   "source": [
    "# Submetric 1: **Safety**"
   ]
  },
  {
   "cell_type": "markdown",
   "metadata": {},
   "source": [
    "## The importance of safety\n",
    "\n",
    "Obviously, crime itself is a problem nobody wants to deal with, but *fear of crime* is often overlooked and is as much of a problem. <br />\n",
    "\n",
    "Fear of crime can be very stressful and mentally taxing. Nobody should have to worry about their kids playing outside or the safety of their belongings when at home.\n",
    "\n",
    "---"
   ]
  },
  {
   "cell_type": "markdown",
   "metadata": {},
   "source": [
    "## Pittsburgh Police Arrest Dataset\n",
    "Includes data from **August 2016** to **March 2022**\n",
    "\n",
    "We will be using `INCIDENTNEIGHBORHOOD` and querying `OFFENSES` from this dataset to determine which neighborhoods are the safest."
   ]
  },
  {
   "cell_type": "code",
   "execution_count": 66,
   "metadata": {},
   "outputs": [
    {
     "data": {
      "text/html": [
       "<div>\n",
       "<style scoped>\n",
       "    .dataframe tbody tr th:only-of-type {\n",
       "        vertical-align: middle;\n",
       "    }\n",
       "\n",
       "    .dataframe tbody tr th {\n",
       "        vertical-align: top;\n",
       "    }\n",
       "\n",
       "    .dataframe thead th {\n",
       "        text-align: right;\n",
       "    }\n",
       "</style>\n",
       "<table border=\"1\" class=\"dataframe\">\n",
       "  <thead>\n",
       "    <tr style=\"text-align: right;\">\n",
       "      <th></th>\n",
       "      <th>PK</th>\n",
       "      <th>CCR</th>\n",
       "      <th>AGE</th>\n",
       "      <th>GENDER</th>\n",
       "      <th>RACE</th>\n",
       "      <th>ARRESTTIME</th>\n",
       "      <th>ARRESTLOCATION</th>\n",
       "      <th>OFFENSES</th>\n",
       "      <th>INCIDENTLOCATION</th>\n",
       "      <th>INCIDENTNEIGHBORHOOD</th>\n",
       "      <th>INCIDENTZONE</th>\n",
       "      <th>INCIDENTTRACT</th>\n",
       "      <th>COUNCIL_DISTRICT</th>\n",
       "      <th>PUBLIC_WORKS_DIVISION</th>\n",
       "      <th>X</th>\n",
       "      <th>Y</th>\n",
       "    </tr>\n",
       "  </thead>\n",
       "  <tbody>\n",
       "    <tr>\n",
       "      <th>3346</th>\n",
       "      <td>1978799</td>\n",
       "      <td>15145519</td>\n",
       "      <td>54.0</td>\n",
       "      <td>M</td>\n",
       "      <td>B</td>\n",
       "      <td>2016-12-12T13:50:00</td>\n",
       "      <td>600 Block 1ST AV Pittsburgh, PA 15219</td>\n",
       "      <td>9015 Failure To Appear/Arrest on Attachment Order</td>\n",
       "      <td>Middle ST &amp; Foreland ST Pittsburgh, PA 15212</td>\n",
       "      <td>East Allegheny</td>\n",
       "      <td>1</td>\n",
       "      <td>2304.0</td>\n",
       "      <td>1.0</td>\n",
       "      <td>1.0</td>\n",
       "      <td>-79.999389</td>\n",
       "      <td>40.454569</td>\n",
       "    </tr>\n",
       "    <tr>\n",
       "      <th>4397</th>\n",
       "      <td>1980136</td>\n",
       "      <td>17004102</td>\n",
       "      <td>24.0</td>\n",
       "      <td>M</td>\n",
       "      <td>A</td>\n",
       "      <td>2017-01-07T19:00:00</td>\n",
       "      <td>Henderson ST &amp; Sandusky CT Pittsburgh, PA 15212</td>\n",
       "      <td>13(a)(32) Paraphernalia - Use or Possession / ...</td>\n",
       "      <td>Henderson ST &amp; Sandusky CT Pittsburgh, PA 15212</td>\n",
       "      <td>Fineview</td>\n",
       "      <td>1</td>\n",
       "      <td>2509.0</td>\n",
       "      <td>6.0</td>\n",
       "      <td>1.0</td>\n",
       "      <td>-80.005624</td>\n",
       "      <td>40.459227</td>\n",
       "    </tr>\n",
       "    <tr>\n",
       "      <th>139</th>\n",
       "      <td>1975338</td>\n",
       "      <td>16163642</td>\n",
       "      <td>24.0</td>\n",
       "      <td>M</td>\n",
       "      <td>B</td>\n",
       "      <td>2016-08-31T00:35:00</td>\n",
       "      <td>Hamilton AV &amp; East Liberty BL Pittsburgh, PA 1...</td>\n",
       "      <td>13(a)(16) Possession of Controlled Substance /...</td>\n",
       "      <td>Hamilton AV &amp; East Liberty BL Pittsburgh, PA 1...</td>\n",
       "      <td>Larimer</td>\n",
       "      <td>5</td>\n",
       "      <td>1208.0</td>\n",
       "      <td>9.0</td>\n",
       "      <td>2.0</td>\n",
       "      <td>-79.915771</td>\n",
       "      <td>40.459858</td>\n",
       "    </tr>\n",
       "  </tbody>\n",
       "</table>\n",
       "</div>"
      ],
      "text/plain": [
       "           PK       CCR   AGE GENDER RACE           ARRESTTIME  \\\n",
       "3346  1978799  15145519  54.0      M    B  2016-12-12T13:50:00   \n",
       "4397  1980136  17004102  24.0      M    A  2017-01-07T19:00:00   \n",
       "139   1975338  16163642  24.0      M    B  2016-08-31T00:35:00   \n",
       "\n",
       "                                         ARRESTLOCATION  \\\n",
       "3346              600 Block 1ST AV Pittsburgh, PA 15219   \n",
       "4397    Henderson ST & Sandusky CT Pittsburgh, PA 15212   \n",
       "139   Hamilton AV & East Liberty BL Pittsburgh, PA 1...   \n",
       "\n",
       "                                               OFFENSES  \\\n",
       "3346  9015 Failure To Appear/Arrest on Attachment Order   \n",
       "4397  13(a)(32) Paraphernalia - Use or Possession / ...   \n",
       "139   13(a)(16) Possession of Controlled Substance /...   \n",
       "\n",
       "                                       INCIDENTLOCATION INCIDENTNEIGHBORHOOD  \\\n",
       "3346       Middle ST & Foreland ST Pittsburgh, PA 15212       East Allegheny   \n",
       "4397    Henderson ST & Sandusky CT Pittsburgh, PA 15212             Fineview   \n",
       "139   Hamilton AV & East Liberty BL Pittsburgh, PA 1...              Larimer   \n",
       "\n",
       "     INCIDENTZONE  INCIDENTTRACT  COUNCIL_DISTRICT  PUBLIC_WORKS_DIVISION  \\\n",
       "3346            1         2304.0               1.0                    1.0   \n",
       "4397            1         2509.0               6.0                    1.0   \n",
       "139             5         1208.0               9.0                    2.0   \n",
       "\n",
       "              X          Y  \n",
       "3346 -79.999389  40.454569  \n",
       "4397 -80.005624  40.459227  \n",
       "139  -79.915771  40.459858  "
      ]
     },
     "execution_count": 66,
     "metadata": {},
     "output_type": "execute_result"
    }
   ],
   "source": [
    "import pandas as pd\n",
    "import matplotlib.pyplot as plot\n",
    "dset = pd.read_csv('e03a89dd-134a-4ee8-a2bd-62c40aeebc6f.csv')\n",
    "dset.sample(3)"
   ]
  },
  {
   "cell_type": "markdown",
   "metadata": {},
   "source": [
    "When sorting neighborhoods by `count` of crimes, we see the Central Business District (Downtown) way above the rest"
   ]
  },
  {
   "cell_type": "code",
   "execution_count": 59,
   "metadata": {},
   "outputs": [
    {
     "data": {
      "text/html": [
       "<div>\n",
       "<style scoped>\n",
       "    .dataframe tbody tr th:only-of-type {\n",
       "        vertical-align: middle;\n",
       "    }\n",
       "\n",
       "    .dataframe tbody tr th {\n",
       "        vertical-align: top;\n",
       "    }\n",
       "\n",
       "    .dataframe thead th {\n",
       "        text-align: right;\n",
       "    }\n",
       "</style>\n",
       "<table border=\"1\" class=\"dataframe\">\n",
       "  <thead>\n",
       "    <tr style=\"text-align: right;\">\n",
       "      <th></th>\n",
       "      <th>count</th>\n",
       "      <th>unique</th>\n",
       "      <th>top</th>\n",
       "      <th>freq</th>\n",
       "    </tr>\n",
       "    <tr>\n",
       "      <th>INCIDENTNEIGHBORHOOD</th>\n",
       "      <th></th>\n",
       "      <th></th>\n",
       "      <th></th>\n",
       "      <th></th>\n",
       "    </tr>\n",
       "  </thead>\n",
       "  <tbody>\n",
       "    <tr>\n",
       "      <th>Central Business District</th>\n",
       "      <td>3327</td>\n",
       "      <td>1335</td>\n",
       "      <td>9501 Bench Warrant</td>\n",
       "      <td>238</td>\n",
       "    </tr>\n",
       "    <tr>\n",
       "      <th>South Side Flats</th>\n",
       "      <td>2861</td>\n",
       "      <td>1412</td>\n",
       "      <td>9015 Failure To Appear/Arrest on Attachment Order</td>\n",
       "      <td>137</td>\n",
       "    </tr>\n",
       "    <tr>\n",
       "      <th>Carrick</th>\n",
       "      <td>1969</td>\n",
       "      <td>872</td>\n",
       "      <td>2701 Simple Assault.</td>\n",
       "      <td>170</td>\n",
       "    </tr>\n",
       "    <tr>\n",
       "      <th>East Allegheny</th>\n",
       "      <td>1782</td>\n",
       "      <td>689</td>\n",
       "      <td>9015 Failure To Appear/Arrest on Attachment Order</td>\n",
       "      <td>170</td>\n",
       "    </tr>\n",
       "    <tr>\n",
       "      <th>Homewood South</th>\n",
       "      <td>1746</td>\n",
       "      <td>804</td>\n",
       "      <td>9015 Failure To Appear/Arrest on Attachment Order</td>\n",
       "      <td>129</td>\n",
       "    </tr>\n",
       "    <tr>\n",
       "      <th>...</th>\n",
       "      <td>...</td>\n",
       "      <td>...</td>\n",
       "      <td>...</td>\n",
       "      <td>...</td>\n",
       "    </tr>\n",
       "    <tr>\n",
       "      <th>Regent Square</th>\n",
       "      <td>28</td>\n",
       "      <td>23</td>\n",
       "      <td>13(a)(31) Marijuana: Possession Small Amount</td>\n",
       "      <td>3</td>\n",
       "    </tr>\n",
       "    <tr>\n",
       "      <th>Central Northside</th>\n",
       "      <td>23</td>\n",
       "      <td>19</td>\n",
       "      <td>9501 Bench Warrant</td>\n",
       "      <td>3</td>\n",
       "    </tr>\n",
       "    <tr>\n",
       "      <th>Mt. Oliver Boro</th>\n",
       "      <td>18</td>\n",
       "      <td>16</td>\n",
       "      <td>903 Criminal Conspiracy. / 2701 Simple Assault.</td>\n",
       "      <td>3</td>\n",
       "    </tr>\n",
       "    <tr>\n",
       "      <th>Troy Hill-Herrs Island</th>\n",
       "      <td>6</td>\n",
       "      <td>5</td>\n",
       "      <td>3502 Burglary.</td>\n",
       "      <td>2</td>\n",
       "    </tr>\n",
       "    <tr>\n",
       "      <th>Mt. Oliver Neighborhood</th>\n",
       "      <td>2</td>\n",
       "      <td>2</td>\n",
       "      <td>4906 False Reports to Law Enforcement Authorit...</td>\n",
       "      <td>1</td>\n",
       "    </tr>\n",
       "  </tbody>\n",
       "</table>\n",
       "<p>98 rows × 4 columns</p>\n",
       "</div>"
      ],
      "text/plain": [
       "                          count unique  \\\n",
       "INCIDENTNEIGHBORHOOD                     \n",
       "Central Business District  3327   1335   \n",
       "South Side Flats           2861   1412   \n",
       "Carrick                    1969    872   \n",
       "East Allegheny             1782    689   \n",
       "Homewood South             1746    804   \n",
       "...                         ...    ...   \n",
       "Regent Square                28     23   \n",
       "Central Northside            23     19   \n",
       "Mt. Oliver Boro              18     16   \n",
       "Troy Hill-Herrs Island        6      5   \n",
       "Mt. Oliver Neighborhood       2      2   \n",
       "\n",
       "                                                                         top  \\\n",
       "INCIDENTNEIGHBORHOOD                                                           \n",
       "Central Business District                                 9501 Bench Warrant   \n",
       "South Side Flats           9015 Failure To Appear/Arrest on Attachment Order   \n",
       "Carrick                                                 2701 Simple Assault.   \n",
       "East Allegheny             9015 Failure To Appear/Arrest on Attachment Order   \n",
       "Homewood South             9015 Failure To Appear/Arrest on Attachment Order   \n",
       "...                                                                      ...   \n",
       "Regent Square                   13(a)(31) Marijuana: Possession Small Amount   \n",
       "Central Northside                                         9501 Bench Warrant   \n",
       "Mt. Oliver Boro              903 Criminal Conspiracy. / 2701 Simple Assault.   \n",
       "Troy Hill-Herrs Island                                        3502 Burglary.   \n",
       "Mt. Oliver Neighborhood    4906 False Reports to Law Enforcement Authorit...   \n",
       "\n",
       "                          freq  \n",
       "INCIDENTNEIGHBORHOOD            \n",
       "Central Business District  238  \n",
       "South Side Flats           137  \n",
       "Carrick                    170  \n",
       "East Allegheny             170  \n",
       "Homewood South             129  \n",
       "...                        ...  \n",
       "Regent Square                3  \n",
       "Central Northside            3  \n",
       "Mt. Oliver Boro              3  \n",
       "Troy Hill-Herrs Island       2  \n",
       "Mt. Oliver Neighborhood      1  \n",
       "\n",
       "[98 rows x 4 columns]"
      ]
     },
     "execution_count": 59,
     "metadata": {},
     "output_type": "execute_result"
    }
   ],
   "source": [
    "df = dset.groupby('INCIDENTNEIGHBORHOOD')['OFFENSES'].describe().sort_values(by='count', ascending=False)\n",
    "df"
   ]
  },
  {
   "cell_type": "markdown",
   "metadata": {},
   "source": [
    "But this statistic can be misleading. When we sort Neighborhoods by **Driving related crimes**, we see South Side Flats above the rest while the Central Business District does't break the top 5"
   ]
  },
  {
   "cell_type": "code",
   "execution_count": 54,
   "metadata": {},
   "outputs": [
    {
     "data": {
      "text/html": [
       "<div>\n",
       "<style scoped>\n",
       "    .dataframe tbody tr th:only-of-type {\n",
       "        vertical-align: middle;\n",
       "    }\n",
       "\n",
       "    .dataframe tbody tr th {\n",
       "        vertical-align: top;\n",
       "    }\n",
       "\n",
       "    .dataframe thead th {\n",
       "        text-align: right;\n",
       "    }\n",
       "</style>\n",
       "<table border=\"1\" class=\"dataframe\">\n",
       "  <thead>\n",
       "    <tr style=\"text-align: right;\">\n",
       "      <th></th>\n",
       "      <th>count</th>\n",
       "      <th>unique</th>\n",
       "      <th>top</th>\n",
       "      <th>freq</th>\n",
       "    </tr>\n",
       "    <tr>\n",
       "      <th>INCIDENTNEIGHBORHOOD</th>\n",
       "      <th></th>\n",
       "      <th></th>\n",
       "      <th></th>\n",
       "      <th></th>\n",
       "    </tr>\n",
       "  </thead>\n",
       "  <tbody>\n",
       "    <tr>\n",
       "      <th>South Side Flats</th>\n",
       "      <td>241</td>\n",
       "      <td>208</td>\n",
       "      <td>3736 Reckless Driving / 3802(a)(1) DUI - Gener...</td>\n",
       "      <td>9</td>\n",
       "    </tr>\n",
       "    <tr>\n",
       "      <th>Homewood South</th>\n",
       "      <td>231</td>\n",
       "      <td>189</td>\n",
       "      <td>1543 Driving While Operating Privilege is Susp...</td>\n",
       "      <td>9</td>\n",
       "    </tr>\n",
       "    <tr>\n",
       "      <th>Carrick</th>\n",
       "      <td>174</td>\n",
       "      <td>158</td>\n",
       "      <td>1543 Driving While Operating Privilege is Susp...</td>\n",
       "      <td>3</td>\n",
       "    </tr>\n",
       "    <tr>\n",
       "      <th>Homewood North</th>\n",
       "      <td>166</td>\n",
       "      <td>148</td>\n",
       "      <td>1543 Driving While Operating Privilege is Susp...</td>\n",
       "      <td>4</td>\n",
       "    </tr>\n",
       "    <tr>\n",
       "      <th>Mount Washington</th>\n",
       "      <td>157</td>\n",
       "      <td>136</td>\n",
       "      <td>3714 Careless Driving / 3802(a)(1) DUI - Gener...</td>\n",
       "      <td>7</td>\n",
       "    </tr>\n",
       "  </tbody>\n",
       "</table>\n",
       "</div>"
      ],
      "text/plain": [
       "                     count unique  \\\n",
       "INCIDENTNEIGHBORHOOD                \n",
       "South Side Flats       241    208   \n",
       "Homewood South         231    189   \n",
       "Carrick                174    158   \n",
       "Homewood North         166    148   \n",
       "Mount Washington       157    136   \n",
       "\n",
       "                                                                    top freq  \n",
       "INCIDENTNEIGHBORHOOD                                                          \n",
       "South Side Flats      3736 Reckless Driving / 3802(a)(1) DUI - Gener...    9  \n",
       "Homewood South        1543 Driving While Operating Privilege is Susp...    9  \n",
       "Carrick               1543 Driving While Operating Privilege is Susp...    3  \n",
       "Homewood North        1543 Driving While Operating Privilege is Susp...    4  \n",
       "Mount Washington      3714 Careless Driving / 3802(a)(1) DUI - Gener...    7  "
      ]
     },
     "execution_count": 54,
     "metadata": {},
     "output_type": "execute_result"
    }
   ],
   "source": [
    "query = dset['OFFENSES'].str.contains('Driving', na=False)\n",
    "aslt = dset[query].groupby('INCIDENTNEIGHBORHOOD')['OFFENSES'].describe().sort_values(by='count', ascending=False)\n",
    "aslt.head()"
   ]
  },
  {
   "cell_type": "markdown",
   "metadata": {},
   "source": [
    "It is for this reason that I think the best metric to judge Neighborhoods is by the number of `unique` offenses"
   ]
  },
  {
   "cell_type": "code",
   "execution_count": 90,
   "metadata": {},
   "outputs": [
    {
     "data": {
      "text/plain": [
       "<AxesSubplot:xlabel='INCIDENTNEIGHBORHOOD', ylabel='unique OFFENSES'>"
      ]
     },
     "execution_count": 90,
     "metadata": {},
     "output_type": "execute_result"
    },
    {
     "data": {
      "image/png": "[encoded data removed]",
      "text/plain": [
       "<Figure size 1440x360 with 1 Axes>"
      ]
     },
     "metadata": {
      "needs_background": "light"
     },
     "output_type": "display_data"
    }
   ],
   "source": [
    "df.sort_values(by='unique', ascending=False).iloc[0:20].plot.bar(y='unique', ylabel='unique OFFENSES', figsize=(20,5))"
   ]
  },
  {
   "cell_type": "markdown",
   "metadata": {},
   "source": [
    "By using unique offenses as a metric we reduce the affect that population will have on neighborhoods<br /> \n",
    "\n",
    "A neighborhood with a population of 10,000 people with 200 unique offenses will be weighed the same as a neighborhood with 100,000 people."
   ]
  },
  {
   "cell_type": "code",
   "execution_count": 42,
   "metadata": {},
   "outputs": [
    {
     "data": {
      "text/plain": [
       "array(['3929 Retail Theft.',\n",
       "       '13(a)(16) Possession of Controlled Substance',\n",
       "       '5503 Disorderly Conduct. / 5505 Public Drunkenness', ...,\n",
       "       '903 Criminal Conspiracy. / 907 Possessing Instruments of Crime. / 2702 Aggravated Assault. / 2706 Terroristic Threats. / 2902 Unlawful Restraint. / 5104 Resisting Arrest or Other Law Enforcement. / 6106 Firearms not to be Carried without a License.',\n",
       "       '4106 Access Device Fraud / 13(a)(32) Paraphernalia - Use or Possession / 9501 Bench Warrant / 4120 Identity Theft / 4914(A) False Identification to Law Enforcement',\n",
       "       '901 Criminal Attempt / 2702 Aggravated Assault. / 3736 Reckless Driving / 3732.1 Aggravated Assault by Vehicle'],\n",
       "      dtype=object)"
      ]
     },
     "execution_count": 42,
     "metadata": {},
     "output_type": "execute_result"
    }
   ],
   "source": [
    "dset['OFFENSES'].unique()"
   ]
  }
 ],
 "metadata": {
  "interpreter": {
   "hash": "aee8b7b246df8f9039afb4144a1f6fd8d2ca17a180786b69acc140d282b71a49"
  },
  "kernelspec": {
   "display_name": "Python 3.9.7 64-bit",
   "language": "python",
   "name": "python3"
  },
  "language_info": {
   "codemirror_mode": {
    "name": "ipython",
    "version": 3
   },
   "file_extension": ".py",
   "mimetype": "text/x-python",
   "name": "python",
   "nbconvert_exporter": "python",
   "pygments_lexer": "ipython3",
   "version": "3.9.7"
  },
  "orig_nbformat": 4
 },
 "nbformat": 4,
 "nbformat_minor": 2
}
