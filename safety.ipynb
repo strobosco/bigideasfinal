{
 "cells": [
  {
   "cell_type": "markdown",
   "metadata": {},
   "source": [
    "# Submetric 1: **Safety**"
   ]
  },
  {
   "cell_type": "markdown",
   "metadata": {},
   "source": [
    "## The importance of safety\n",
    "\n",
    "Obviously, crime itself is a problem nobody wants to deal with, but *fear of crime* is often overlooked and is as much of a problem. <br />\n",
    "\n",
    "Fear of crime can be very stressful and mentally taxing. Nobody should have to worry about their kids playing outside or the safety of their belongings when at home.\n",
    "\n",
    "---"
   ]
  },
  {
   "cell_type": "markdown",
   "metadata": {},
   "source": [
    "## Pittsburgh Police Arrest Dataset\n",
    "Includes data from **August 2016** to **March 2022**\n",
    "\n",
    "We will be using `INCIDENTNEIGHBORHOOD` and querying `OFFENSES` from this dataset to determine which neighborhoods are the safest."
   ]
  },
  {
   "cell_type": "code",
   "execution_count": 129,
   "metadata": {},
   "outputs": [
    {
     "data": {
      "text/html": [
       "<div>\n",
       "<style scoped>\n",
       "    .dataframe tbody tr th:only-of-type {\n",
       "        vertical-align: middle;\n",
       "    }\n",
       "\n",
       "    .dataframe tbody tr th {\n",
       "        vertical-align: top;\n",
       "    }\n",
       "\n",
       "    .dataframe thead th {\n",
       "        text-align: right;\n",
       "    }\n",
       "</style>\n",
       "<table border=\"1\" class=\"dataframe\">\n",
       "  <thead>\n",
       "    <tr style=\"text-align: right;\">\n",
       "      <th></th>\n",
       "      <th>PK</th>\n",
       "      <th>CCR</th>\n",
       "      <th>AGE</th>\n",
       "      <th>GENDER</th>\n",
       "      <th>RACE</th>\n",
       "      <th>ARRESTTIME</th>\n",
       "      <th>ARRESTLOCATION</th>\n",
       "      <th>OFFENSES</th>\n",
       "      <th>INCIDENTLOCATION</th>\n",
       "      <th>INCIDENTNEIGHBORHOOD</th>\n",
       "      <th>INCIDENTZONE</th>\n",
       "      <th>INCIDENTTRACT</th>\n",
       "      <th>COUNCIL_DISTRICT</th>\n",
       "      <th>PUBLIC_WORKS_DIVISION</th>\n",
       "      <th>X</th>\n",
       "      <th>Y</th>\n",
       "    </tr>\n",
       "  </thead>\n",
       "  <tbody>\n",
       "    <tr>\n",
       "      <th>0</th>\n",
       "      <td>1975272</td>\n",
       "      <td>16158872</td>\n",
       "      <td>42.0</td>\n",
       "      <td>F</td>\n",
       "      <td>B</td>\n",
       "      <td>2016-08-24T12:20:00</td>\n",
       "      <td>4700 Block Centre AV Pittsburgh, PA 15213</td>\n",
       "      <td>3929 Retail Theft.</td>\n",
       "      <td>4700 Block Centre AV Pittsburgh, PA 15213</td>\n",
       "      <td>Bloomfield</td>\n",
       "      <td>5</td>\n",
       "      <td>804.0</td>\n",
       "      <td>8.0</td>\n",
       "      <td>2.0</td>\n",
       "      <td>-79.949277</td>\n",
       "      <td>40.452551</td>\n",
       "    </tr>\n",
       "    <tr>\n",
       "      <th>1</th>\n",
       "      <td>1974456</td>\n",
       "      <td>16144120</td>\n",
       "      <td>31.0</td>\n",
       "      <td>M</td>\n",
       "      <td>W</td>\n",
       "      <td>2016-08-03T14:55:00</td>\n",
       "      <td>4200 Block Steubenville PKE Pittsburgh, PA 15205</td>\n",
       "      <td>13(a)(16) Possession of Controlled Substance</td>\n",
       "      <td>4200 Block Steubenville PKE Pittsburgh, PA 15205</td>\n",
       "      <td>Outside City</td>\n",
       "      <td>OSC</td>\n",
       "      <td>5599.0</td>\n",
       "      <td>NaN</td>\n",
       "      <td>NaN</td>\n",
       "      <td>-80.088018</td>\n",
       "      <td>40.440136</td>\n",
       "    </tr>\n",
       "    <tr>\n",
       "      <th>2</th>\n",
       "      <td>1974466</td>\n",
       "      <td>16144165</td>\n",
       "      <td>63.0</td>\n",
       "      <td>F</td>\n",
       "      <td>B</td>\n",
       "      <td>2016-08-03T16:45:00</td>\n",
       "      <td>900 Block Freeport RD Fox Chapel, PA 15238</td>\n",
       "      <td>3929 Retail Theft.</td>\n",
       "      <td>900 Block Freeport RD Fox Chapel, PA 15238</td>\n",
       "      <td>Westwood</td>\n",
       "      <td>5</td>\n",
       "      <td>2811.0</td>\n",
       "      <td>9.0</td>\n",
       "      <td>2.0</td>\n",
       "      <td>-79.891803</td>\n",
       "      <td>40.486625</td>\n",
       "    </tr>\n",
       "  </tbody>\n",
       "</table>\n",
       "</div>"
      ],
      "text/plain": [
       "        PK       CCR   AGE GENDER RACE           ARRESTTIME  \\\n",
       "0  1975272  16158872  42.0      F    B  2016-08-24T12:20:00   \n",
       "1  1974456  16144120  31.0      M    W  2016-08-03T14:55:00   \n",
       "2  1974466  16144165  63.0      F    B  2016-08-03T16:45:00   \n",
       "\n",
       "                                     ARRESTLOCATION  \\\n",
       "0         4700 Block Centre AV Pittsburgh, PA 15213   \n",
       "1  4200 Block Steubenville PKE Pittsburgh, PA 15205   \n",
       "2        900 Block Freeport RD Fox Chapel, PA 15238   \n",
       "\n",
       "                                       OFFENSES  \\\n",
       "0                            3929 Retail Theft.   \n",
       "1  13(a)(16) Possession of Controlled Substance   \n",
       "2                            3929 Retail Theft.   \n",
       "\n",
       "                                   INCIDENTLOCATION INCIDENTNEIGHBORHOOD  \\\n",
       "0         4700 Block Centre AV Pittsburgh, PA 15213           Bloomfield   \n",
       "1  4200 Block Steubenville PKE Pittsburgh, PA 15205         Outside City   \n",
       "2        900 Block Freeport RD Fox Chapel, PA 15238             Westwood   \n",
       "\n",
       "  INCIDENTZONE  INCIDENTTRACT  COUNCIL_DISTRICT  PUBLIC_WORKS_DIVISION  \\\n",
       "0            5          804.0               8.0                    2.0   \n",
       "1          OSC         5599.0               NaN                    NaN   \n",
       "2            5         2811.0               9.0                    2.0   \n",
       "\n",
       "           X          Y  \n",
       "0 -79.949277  40.452551  \n",
       "1 -80.088018  40.440136  \n",
       "2 -79.891803  40.486625  "
      ]
     },
     "execution_count": 129,
     "metadata": {},
     "output_type": "execute_result"
    }
   ],
   "source": [
    "import pandas as pd\n",
    "import matplotlib.pyplot as plot\n",
    "import geopandas\n",
    "dset = pd.read_csv('e03a89dd-134a-4ee8-a2bd-62c40aeebc6f.csv')\n",
    "dset = dset[dset['INCIDENTNEIGHBORHOOD'] != 'Outside County']\n",
    "dset = dset[dset['INCIDENTNEIGHBORHOOD'] != 'Outside State'] # Remove these since they are not Pittsburgh neighborhoods\n",
    "dset.head(3)"
   ]
  },
  {
   "cell_type": "markdown",
   "metadata": {},
   "source": [
    "---\n",
    "## Measuring safety with this data"
   ]
  },
  {
   "cell_type": "markdown",
   "metadata": {},
   "source": [
    "When sorting neighborhoods by `count` of all crimes, we see the Central Business District (Downtown) way above the rest"
   ]
  },
  {
   "cell_type": "code",
   "execution_count": 119,
   "metadata": {},
   "outputs": [
    {
     "data": {
      "text/html": [
       "<div>\n",
       "<style scoped>\n",
       "    .dataframe tbody tr th:only-of-type {\n",
       "        vertical-align: middle;\n",
       "    }\n",
       "\n",
       "    .dataframe tbody tr th {\n",
       "        vertical-align: top;\n",
       "    }\n",
       "\n",
       "    .dataframe thead th {\n",
       "        text-align: right;\n",
       "    }\n",
       "</style>\n",
       "<table border=\"1\" class=\"dataframe\">\n",
       "  <thead>\n",
       "    <tr style=\"text-align: right;\">\n",
       "      <th></th>\n",
       "      <th>count</th>\n",
       "      <th>unique</th>\n",
       "      <th>top</th>\n",
       "      <th>freq</th>\n",
       "    </tr>\n",
       "    <tr>\n",
       "      <th>INCIDENTNEIGHBORHOOD</th>\n",
       "      <th></th>\n",
       "      <th></th>\n",
       "      <th></th>\n",
       "      <th></th>\n",
       "    </tr>\n",
       "  </thead>\n",
       "  <tbody>\n",
       "    <tr>\n",
       "      <th>Central Business District</th>\n",
       "      <td>3327</td>\n",
       "      <td>1335</td>\n",
       "      <td>9501 Bench Warrant</td>\n",
       "      <td>238</td>\n",
       "    </tr>\n",
       "    <tr>\n",
       "      <th>South Side Flats</th>\n",
       "      <td>2861</td>\n",
       "      <td>1412</td>\n",
       "      <td>9015 Failure To Appear/Arrest on Attachment Order</td>\n",
       "      <td>137</td>\n",
       "    </tr>\n",
       "    <tr>\n",
       "      <th>Carrick</th>\n",
       "      <td>1969</td>\n",
       "      <td>872</td>\n",
       "      <td>2701 Simple Assault.</td>\n",
       "      <td>170</td>\n",
       "    </tr>\n",
       "    <tr>\n",
       "      <th>East Allegheny</th>\n",
       "      <td>1782</td>\n",
       "      <td>689</td>\n",
       "      <td>9015 Failure To Appear/Arrest on Attachment Order</td>\n",
       "      <td>170</td>\n",
       "    </tr>\n",
       "    <tr>\n",
       "      <th>Homewood South</th>\n",
       "      <td>1746</td>\n",
       "      <td>804</td>\n",
       "      <td>9015 Failure To Appear/Arrest on Attachment Order</td>\n",
       "      <td>129</td>\n",
       "    </tr>\n",
       "    <tr>\n",
       "      <th>...</th>\n",
       "      <td>...</td>\n",
       "      <td>...</td>\n",
       "      <td>...</td>\n",
       "      <td>...</td>\n",
       "    </tr>\n",
       "    <tr>\n",
       "      <th>Regent Square</th>\n",
       "      <td>28</td>\n",
       "      <td>23</td>\n",
       "      <td>13(a)(31) Marijuana: Possession Small Amount</td>\n",
       "      <td>3</td>\n",
       "    </tr>\n",
       "    <tr>\n",
       "      <th>Central Northside</th>\n",
       "      <td>23</td>\n",
       "      <td>19</td>\n",
       "      <td>9501 Bench Warrant</td>\n",
       "      <td>3</td>\n",
       "    </tr>\n",
       "    <tr>\n",
       "      <th>Mt. Oliver Boro</th>\n",
       "      <td>18</td>\n",
       "      <td>16</td>\n",
       "      <td>903 Criminal Conspiracy. / 2701 Simple Assault.</td>\n",
       "      <td>3</td>\n",
       "    </tr>\n",
       "    <tr>\n",
       "      <th>Troy Hill-Herrs Island</th>\n",
       "      <td>6</td>\n",
       "      <td>5</td>\n",
       "      <td>3502 Burglary.</td>\n",
       "      <td>2</td>\n",
       "    </tr>\n",
       "    <tr>\n",
       "      <th>Mt. Oliver Neighborhood</th>\n",
       "      <td>2</td>\n",
       "      <td>2</td>\n",
       "      <td>4906 False Reports to Law Enforcement Authorit...</td>\n",
       "      <td>1</td>\n",
       "    </tr>\n",
       "  </tbody>\n",
       "</table>\n",
       "<p>96 rows × 4 columns</p>\n",
       "</div>"
      ],
      "text/plain": [
       "                          count unique  \\\n",
       "INCIDENTNEIGHBORHOOD                     \n",
       "Central Business District  3327   1335   \n",
       "South Side Flats           2861   1412   \n",
       "Carrick                    1969    872   \n",
       "East Allegheny             1782    689   \n",
       "Homewood South             1746    804   \n",
       "...                         ...    ...   \n",
       "Regent Square                28     23   \n",
       "Central Northside            23     19   \n",
       "Mt. Oliver Boro              18     16   \n",
       "Troy Hill-Herrs Island        6      5   \n",
       "Mt. Oliver Neighborhood       2      2   \n",
       "\n",
       "                                                                         top  \\\n",
       "INCIDENTNEIGHBORHOOD                                                           \n",
       "Central Business District                                 9501 Bench Warrant   \n",
       "South Side Flats           9015 Failure To Appear/Arrest on Attachment Order   \n",
       "Carrick                                                 2701 Simple Assault.   \n",
       "East Allegheny             9015 Failure To Appear/Arrest on Attachment Order   \n",
       "Homewood South             9015 Failure To Appear/Arrest on Attachment Order   \n",
       "...                                                                      ...   \n",
       "Regent Square                   13(a)(31) Marijuana: Possession Small Amount   \n",
       "Central Northside                                         9501 Bench Warrant   \n",
       "Mt. Oliver Boro              903 Criminal Conspiracy. / 2701 Simple Assault.   \n",
       "Troy Hill-Herrs Island                                        3502 Burglary.   \n",
       "Mt. Oliver Neighborhood    4906 False Reports to Law Enforcement Authorit...   \n",
       "\n",
       "                          freq  \n",
       "INCIDENTNEIGHBORHOOD            \n",
       "Central Business District  238  \n",
       "South Side Flats           137  \n",
       "Carrick                    170  \n",
       "East Allegheny             170  \n",
       "Homewood South             129  \n",
       "...                        ...  \n",
       "Regent Square                3  \n",
       "Central Northside            3  \n",
       "Mt. Oliver Boro              3  \n",
       "Troy Hill-Herrs Island       2  \n",
       "Mt. Oliver Neighborhood      1  \n",
       "\n",
       "[96 rows x 4 columns]"
      ]
     },
     "execution_count": 119,
     "metadata": {},
     "output_type": "execute_result"
    }
   ],
   "source": [
    "df = dset.groupby('INCIDENTNEIGHBORHOOD')['OFFENSES'].describe().sort_values(by='count', ascending=False)\n",
    "df"
   ]
  },
  {
   "cell_type": "markdown",
   "metadata": {},
   "source": [
    "But this statistic can be misleading. When we sort Neighborhoods by `count` of **Driving related crimes**, we see South Side Flats above the rest while the Central Business District does't break the top 5"
   ]
  },
  {
   "cell_type": "code",
   "execution_count": 120,
   "metadata": {},
   "outputs": [
    {
     "data": {
      "text/html": [
       "<div>\n",
       "<style scoped>\n",
       "    .dataframe tbody tr th:only-of-type {\n",
       "        vertical-align: middle;\n",
       "    }\n",
       "\n",
       "    .dataframe tbody tr th {\n",
       "        vertical-align: top;\n",
       "    }\n",
       "\n",
       "    .dataframe thead th {\n",
       "        text-align: right;\n",
       "    }\n",
       "</style>\n",
       "<table border=\"1\" class=\"dataframe\">\n",
       "  <thead>\n",
       "    <tr style=\"text-align: right;\">\n",
       "      <th></th>\n",
       "      <th>count</th>\n",
       "      <th>unique</th>\n",
       "      <th>top</th>\n",
       "      <th>freq</th>\n",
       "    </tr>\n",
       "    <tr>\n",
       "      <th>INCIDENTNEIGHBORHOOD</th>\n",
       "      <th></th>\n",
       "      <th></th>\n",
       "      <th></th>\n",
       "      <th></th>\n",
       "    </tr>\n",
       "  </thead>\n",
       "  <tbody>\n",
       "    <tr>\n",
       "      <th>South Side Flats</th>\n",
       "      <td>241</td>\n",
       "      <td>208</td>\n",
       "      <td>3736 Reckless Driving / 3802(a)(1) DUI - Gener...</td>\n",
       "      <td>9</td>\n",
       "    </tr>\n",
       "    <tr>\n",
       "      <th>Homewood South</th>\n",
       "      <td>231</td>\n",
       "      <td>189</td>\n",
       "      <td>1543 Driving While Operating Privilege is Susp...</td>\n",
       "      <td>9</td>\n",
       "    </tr>\n",
       "    <tr>\n",
       "      <th>Carrick</th>\n",
       "      <td>174</td>\n",
       "      <td>158</td>\n",
       "      <td>1543 Driving While Operating Privilege is Susp...</td>\n",
       "      <td>3</td>\n",
       "    </tr>\n",
       "    <tr>\n",
       "      <th>Homewood North</th>\n",
       "      <td>166</td>\n",
       "      <td>148</td>\n",
       "      <td>1543 Driving While Operating Privilege is Susp...</td>\n",
       "      <td>4</td>\n",
       "    </tr>\n",
       "    <tr>\n",
       "      <th>Mount Washington</th>\n",
       "      <td>157</td>\n",
       "      <td>136</td>\n",
       "      <td>3714 Careless Driving / 3802(a)(1) DUI - Gener...</td>\n",
       "      <td>7</td>\n",
       "    </tr>\n",
       "  </tbody>\n",
       "</table>\n",
       "</div>"
      ],
      "text/plain": [
       "                     count unique  \\\n",
       "INCIDENTNEIGHBORHOOD                \n",
       "South Side Flats       241    208   \n",
       "Homewood South         231    189   \n",
       "Carrick                174    158   \n",
       "Homewood North         166    148   \n",
       "Mount Washington       157    136   \n",
       "\n",
       "                                                                    top freq  \n",
       "INCIDENTNEIGHBORHOOD                                                          \n",
       "South Side Flats      3736 Reckless Driving / 3802(a)(1) DUI - Gener...    9  \n",
       "Homewood South        1543 Driving While Operating Privilege is Susp...    9  \n",
       "Carrick               1543 Driving While Operating Privilege is Susp...    3  \n",
       "Homewood North        1543 Driving While Operating Privilege is Susp...    4  \n",
       "Mount Washington      3714 Careless Driving / 3802(a)(1) DUI - Gener...    7  "
      ]
     },
     "execution_count": 120,
     "metadata": {},
     "output_type": "execute_result"
    }
   ],
   "source": [
    "query = dset['OFFENSES'].str.contains('Driving', na=False) \n",
    "crimesEX = dset[query].groupby('INCIDENTNEIGHBORHOOD')['OFFENSES'].describe().sort_values(by='count', ascending=False)\n",
    "crimesEX.head()"
   ]
  },
  {
   "cell_type": "markdown",
   "metadata": {},
   "source": [
    "It is for this reason that I think the best metric to judge Neighborhoods is by the number of `unique` offenses<br />\n",
    "\n",
    "By using unique offenses as a metric we reduce the affect that population will have on neighborhoods<br /> \n",
    "* A neighborhood of 1,000 people with *n* unique offenses will be weighed the same as a neighborhood of 100,000 people with *n* unique offenses."
   ]
  },
  {
   "cell_type": "markdown",
   "metadata": {},
   "source": [
    "## Representing our data"
   ]
  },
  {
   "cell_type": "code",
   "execution_count": 121,
   "metadata": {},
   "outputs": [
    {
     "data": {
      "text/plain": [
       "<AxesSubplot:xlabel='INCIDENTNEIGHBORHOOD', ylabel='unique OFFENSES'>"
      ]
     },
     "execution_count": 121,
     "metadata": {},
     "output_type": "execute_result"
    },
    {
     "data": {
      "image/png": "[encoded data removed]",
      "text/plain": [
       "<Figure size 1440x360 with 1 Axes>"
      ]
     },
     "metadata": {
      "needs_background": "light"
     },
     "output_type": "display_data"
    }
   ],
   "source": [
    "df.sort_values(by='unique', ascending=False).iloc[:15].plot.bar(y=['unique', 'count'], ylabel='unique OFFENSES', figsize=(20,5))"
   ]
  },
  {
   "cell_type": "markdown",
   "metadata": {},
   "source": [
    "Here are the 15 neighborhoods with the highest amount of unique offenses, along with the total amount of offenses for that neighborhood. <br />\n",
    "\n",
    "We reach a sweet spot as the number of **total** offenses reaches the number of **unique** offenses\n",
    "- This suggests that the most crimes are not recurring"
   ]
  },
  {
   "cell_type": "code",
   "execution_count": 141,
   "metadata": {},
   "outputs": [
    {
     "data": {
      "text/plain": [
       "<AxesSubplot:xlabel='INCIDENTNEIGHBORHOOD', ylabel='unique OFFENSES'>"
      ]
     },
     "execution_count": 141,
     "metadata": {},
     "output_type": "execute_result"
    },
    {
     "data": {
      "image/png": "[encoded data removed]",
      "text/plain": [
       "<Figure size 1440x360 with 1 Axes>"
      ]
     },
     "metadata": {
      "needs_background": "light"
     },
     "output_type": "display_data"
    }
   ],
   "source": [
    "df.sort_values(by='unique', ascending=False).iloc[-10:-2].plot.bar(y=['unique', 'count'], ylabel='unique OFFENSES', figsize=(20,5))"
   ]
  },
  {
   "cell_type": "markdown",
   "metadata": {},
   "source": [
    "### These are good contenders\n",
    "They have: \n",
    "- Low # of total offenses\n",
    "- Low # of unique offenses\n",
    "- Low variance between the two"
   ]
  },
  {
   "cell_type": "markdown",
   "metadata": {},
   "source": [
    "## Conclusion"
   ]
  }
 ],
 "metadata": {
  "interpreter": {
   "hash": "aee8b7b246df8f9039afb4144a1f6fd8d2ca17a180786b69acc140d282b71a49"
  },
  "kernelspec": {
   "display_name": "Python 3.9.7 64-bit",
   "language": "python",
   "name": "python3"
  },
  "language_info": {
   "codemirror_mode": {
    "name": "ipython",
    "version": 3
   },
   "file_extension": ".py",
   "mimetype": "text/x-python",
   "name": "python",
   "nbconvert_exporter": "python",
   "pygments_lexer": "ipython3",
   "version": "3.9.7"
  },
  "orig_nbformat": 4
 },
 "nbformat": 4,
 "nbformat_minor": 2
}
