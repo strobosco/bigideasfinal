{
 "cells": [
  {
   "cell_type": "markdown",
   "metadata": {},
   "source": [
    "# **Max's Dataset**"
   ]
  },
  {
   "cell_type": "code",
   "execution_count": 2,
   "metadata": {},
   "outputs": [],
   "source": [
    "import pandas as pd"
   ]
  },
  {
   "cell_type": "markdown",
   "metadata": {},
   "source": [
    "## Allegheny County Air Quality dataset"
   ]
  },
  {
   "cell_type": "code",
   "execution_count": 5,
   "metadata": {},
   "outputs": [
    {
     "data": {
      "text/html": [
       "<div>\n",
       "<style scoped>\n",
       "    .dataframe tbody tr th:only-of-type {\n",
       "        vertical-align: middle;\n",
       "    }\n",
       "\n",
       "    .dataframe tbody tr th {\n",
       "        vertical-align: top;\n",
       "    }\n",
       "\n",
       "    .dataframe thead th {\n",
       "        text-align: right;\n",
       "    }\n",
       "</style>\n",
       "<table border=\"1\" class=\"dataframe\">\n",
       "  <thead>\n",
       "    <tr style=\"text-align: right;\">\n",
       "      <th></th>\n",
       "      <th>date</th>\n",
       "      <th>site</th>\n",
       "      <th>parameter</th>\n",
       "      <th>index_value</th>\n",
       "      <th>description</th>\n",
       "      <th>health_advisory</th>\n",
       "      <th>health_effects</th>\n",
       "    </tr>\n",
       "  </thead>\n",
       "  <tbody>\n",
       "    <tr>\n",
       "      <th>0</th>\n",
       "      <td>2016-01-01</td>\n",
       "      <td>Lawrenceville</td>\n",
       "      <td>PM25B</td>\n",
       "      <td>25</td>\n",
       "      <td>Good</td>\n",
       "      <td>NaN</td>\n",
       "      <td>NaN</td>\n",
       "    </tr>\n",
       "    <tr>\n",
       "      <th>1</th>\n",
       "      <td>2016-01-01</td>\n",
       "      <td>Flag Plaza</td>\n",
       "      <td>CO</td>\n",
       "      <td>0</td>\n",
       "      <td>Good</td>\n",
       "      <td>NaN</td>\n",
       "      <td>NaN</td>\n",
       "    </tr>\n",
       "    <tr>\n",
       "      <th>2</th>\n",
       "      <td>2016-01-01</td>\n",
       "      <td>Harrison Township</td>\n",
       "      <td>OZONE</td>\n",
       "      <td>31</td>\n",
       "      <td>Good</td>\n",
       "      <td>NaN</td>\n",
       "      <td>NaN</td>\n",
       "    </tr>\n",
       "    <tr>\n",
       "      <th>3</th>\n",
       "      <td>2016-01-01</td>\n",
       "      <td>Avalon</td>\n",
       "      <td>SO2</td>\n",
       "      <td>10</td>\n",
       "      <td>Good</td>\n",
       "      <td>NaN</td>\n",
       "      <td>NaN</td>\n",
       "    </tr>\n",
       "    <tr>\n",
       "      <th>4</th>\n",
       "      <td>2016-01-01</td>\n",
       "      <td>Lincoln</td>\n",
       "      <td>PM25</td>\n",
       "      <td>35</td>\n",
       "      <td>Good</td>\n",
       "      <td>NaN</td>\n",
       "      <td>NaN</td>\n",
       "    </tr>\n",
       "  </tbody>\n",
       "</table>\n",
       "</div>"
      ],
      "text/plain": [
       "         date               site parameter  index_value description  \\\n",
       "0  2016-01-01      Lawrenceville     PM25B           25        Good   \n",
       "1  2016-01-01         Flag Plaza        CO            0        Good   \n",
       "2  2016-01-01  Harrison Township     OZONE           31        Good   \n",
       "3  2016-01-01             Avalon       SO2           10        Good   \n",
       "4  2016-01-01            Lincoln      PM25           35        Good   \n",
       "\n",
       "  health_advisory health_effects  \n",
       "0             NaN            NaN  \n",
       "1             NaN            NaN  \n",
       "2             NaN            NaN  \n",
       "3             NaN            NaN  \n",
       "4             NaN            NaN  "
      ]
     },
     "execution_count": 5,
     "metadata": {},
     "output_type": "execute_result"
    }
   ],
   "source": [
    "dataset = pd.read_csv(\"4ab1e23f-3262-4bd3-adbf-f72f0119108b.csv\")\n",
    "dataset.head()"
   ]
  },
  {
   "cell_type": "code",
   "execution_count": 8,
   "metadata": {},
   "outputs": [
    {
     "name": "stdout",
     "output_type": "stream",
     "text": [
      "Per-column data:\n",
      "Good                              46575\n",
      "Moderate                           4090\n",
      "Unhealthy for Sensitive Groups       98\n",
      "Unhealthy                             7\n",
      "Name: description, dtype: int64\n",
      "------------------------------\n",
      "Parkway East             6804\n",
      "North Braddock           4882\n",
      "Lawrenceville 2          4528\n",
      "Liberty 2                4468\n",
      "South Fayette            4406\n",
      "Harrison Township        4367\n",
      "Flag Plaza               4002\n",
      "Avalon                   3843\n",
      "Lawrenceville            3805\n",
      "Lincoln                  3574\n",
      "Liberty                  2285\n",
      "Glassport High Street    2272\n",
      "Pittsburgh                904\n",
      "Clairton                  329\n",
      "West Mifflin              301\n",
      "Name: site, dtype: int64\n",
      "------------------------------\n",
      "SO2         11496\n",
      "PM10         8578\n",
      "CO           6656\n",
      "OZONE        6519\n",
      "PM25T        5898\n",
      "NO2          4494\n",
      "PM10B        2146\n",
      "PM25         1767\n",
      "PM25B        1539\n",
      "PM25(2)       655\n",
      "PM10_640      529\n",
      "PM25_640      493\n",
      "Name: parameter, dtype: int64\n"
     ]
    }
   ],
   "source": [
    "print(\"Per-column data:\")\n",
    "print(dataset[\"description\"].value_counts())\n",
    "print(\"------------------------------\")\n",
    "print(dataset[\"site\"].value_counts())\n",
    "print(\"------------------------------\")\n",
    "print(dataset[\"parameter\"].value_counts())"
   ]
  },
  {
   "cell_type": "code",
   "execution_count": 15,
   "metadata": {},
   "outputs": [
    {
     "name": "stdout",
     "output_type": "stream",
     "text": [
      "Locations and their air quality\n",
      "------------------------------\n"
     ]
    },
    {
     "data": {
      "text/plain": [
       "site                   description                   \n",
       "Avalon                 Good                              3330\n",
       "                       Moderate                           511\n",
       "                       Unhealthy for Sensitive Groups       2\n",
       "Clairton               Good                               327\n",
       "                       Moderate                             2\n",
       "Flag Plaza             Good                              3999\n",
       "                       Moderate                             3\n",
       "Glassport High Street  Good                              2258\n",
       "                       Moderate                            14\n",
       "Harrison Township      Good                              4271\n",
       "                       Moderate                            88\n",
       "                       Unhealthy for Sensitive Groups       8\n",
       "Lawrenceville          Good                              3149\n",
       "                       Moderate                           651\n",
       "                       Unhealthy for Sensitive Groups       5\n",
       "Lawrenceville 2        Good                              4528\n",
       "Liberty                Good                              2159\n",
       "                       Moderate                           114\n",
       "                       Unhealthy for Sensitive Groups      12\n",
       "Liberty 2              Good                              3562\n",
       "                       Moderate                           866\n",
       "                       Unhealthy for Sensitive Groups      35\n",
       "                       Unhealthy                            5\n",
       "Lincoln                Good                              2754\n",
       "                       Moderate                           796\n",
       "                       Unhealthy for Sensitive Groups      23\n",
       "                       Unhealthy                            1\n",
       "North Braddock         Good                              4748\n",
       "                       Moderate                           132\n",
       "                       Unhealthy for Sensitive Groups       2\n",
       "Parkway East           Good                              6157\n",
       "                       Moderate                           644\n",
       "                       Unhealthy for Sensitive Groups       2\n",
       "                       Unhealthy                            1\n",
       "Pittsburgh             Good                               781\n",
       "                       Moderate                           121\n",
       "                       Unhealthy for Sensitive Groups       2\n",
       "South Fayette          Good                              4251\n",
       "                       Moderate                           148\n",
       "                       Unhealthy for Sensitive Groups       7\n",
       "West Mifflin           Good                               301\n",
       "Name: description, dtype: int64"
      ]
     },
     "execution_count": 15,
     "metadata": {},
     "output_type": "execute_result"
    }
   ],
   "source": [
    "print(\"Locations and their air quality\\n------------------------------\")\n",
    "dataset.groupby(\"site\")[\"description\"].value_counts()"
   ]
  }
 ],
 "metadata": {
  "interpreter": {
   "hash": "aee8b7b246df8f9039afb4144a1f6fd8d2ca17a180786b69acc140d282b71a49"
  },
  "kernelspec": {
   "display_name": "Python 3.9.7 64-bit",
   "language": "python",
   "name": "python3"
  },
  "language_info": {
   "codemirror_mode": {
    "name": "ipython",
    "version": 3
   },
   "file_extension": ".py",
   "mimetype": "text/x-python",
   "name": "python",
   "nbconvert_exporter": "python",
   "pygments_lexer": "ipython3",
   "version": "3.9.7"
  },
  "orig_nbformat": 4
 },
 "nbformat": 4,
 "nbformat_minor": 2
}
